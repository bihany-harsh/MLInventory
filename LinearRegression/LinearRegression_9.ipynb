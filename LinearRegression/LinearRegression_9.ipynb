{
 "cells": [
  {
   "cell_type": "code",
   "execution_count": 9,
   "metadata": {},
   "outputs": [],
   "source": [
    "#Trying to code the LinearRegression model\n",
    "import pandas as pd\n",
    "import numpy as np"
   ]
  },
  {
   "cell_type": "code",
   "execution_count": 10,
   "metadata": {},
   "outputs": [],
   "source": [
    "# gradient descent: it is an optimization algo. used for minimizing the cost function\n",
    "# it is used for updating the parameters of the model\n",
    "# w = w - alpha * dw\n",
    "# b = b - alpha * db"
   ]
  },
  {
   "cell_type": "markdown",
   "metadata": {},
   "source": [
    "**LINEAR REGRESSION**"
   ]
  },
  {
   "cell_type": "code",
   "execution_count": 11,
   "metadata": {},
   "outputs": [],
   "source": [
    "class Linear_Regression():\n",
    "    def __init__(self, alpha=0.01, iterations=1000):\n",
    "        self.alpha = alpha\n",
    "        self.iterations = iterations\n",
    "        self.w = None\n",
    "        self.b = None\n",
    "        self.cost = None\n",
    "        self.m = None\n",
    "        self.n = None\n",
    "    \n",
    "    def fit(self, X, y):\n",
    "        self.m, self.n = X.shape\n",
    "        self.w = np.zeros(self.n)\n",
    "        self.b = 0\n",
    "        self.cost = np.zeros(self.iterations)\n",
    "\n",
    "        for i in range(self.iterations):\n",
    "            y_pred = np.dot(X, self.w) + self.b\n",
    "            dw = (1/self.m) * np.dot(X.T, (y_pred - y))\n",
    "            db = (1/self.m) * np.sum(y_pred - y)\n",
    "            self.w = self.w - self.alpha * dw\n",
    "            self.b = self.b - self.alpha * db\n",
    "            self.cost[i] = (1/2 * self.m) * np.sum((y_pred - y)**2)\n",
    "\n",
    "    def predict(self, X):\n",
    "        y_pred = np.dot(X, self.w) + self.b\n",
    "        return y_pred\n",
    "    \n",
    "    def score(self, X, y):\n",
    "        y_pred = self.predict(X)\n",
    "        u = ((y - y_pred)**2).sum()\n",
    "        v = ((y - y.mean())**2).sum()\n",
    "        return 1 - u/v"
   ]
  },
  {
   "cell_type": "code",
   "execution_count": 12,
   "metadata": {},
   "outputs": [],
   "source": [
    "class LinearRegression():\n",
    "    # initialize the parameters\n",
    "    def __init__ (self, learning_rate, iterations):\n",
    "        self.learning_rate = learning_rate\n",
    "        self.iterations = iterations\n",
    "    \n",
    "    def fit (self, X, y):\n",
    "        self.m, self.n = X.shape\n",
    "        #initialize the weights and bias\n",
    "        self.w = np.zeros(self.n)\n",
    "        self.b = 0\n",
    "        self.X = X\n",
    "        self.y = y\n",
    "\n",
    "        #gradient descent\n",
    "        for i in range(*self.iterations):\n",
    "            self.update_weights()\n",
    "    \n",
    "    def update_weights(self):\n",
    "        y_prediction = self.predict(self.X)\n",
    "\n",
    "        #calculating gradients\n",
    "        dw = (1/self.m) * np.dot(self.X.T, (y_prediction - self.y))\n",
    "        db = (1/self.m) * np.sum(y_prediction - self.y)\n",
    "\n",
    "        #update the weights\n",
    "        self.w = self.w - self.learning_rate * dw\n",
    "        self.b = self.b - self.learning_rate * db\n",
    "\n",
    "    def predict(self, X):\n",
    "        return np.dot(X, self.w) + self.b    "
   ]
  }
 ],
 "metadata": {
  "kernelspec": {
   "display_name": "Python 3.8.10 64-bit",
   "language": "python",
   "name": "python3"
  },
  "language_info": {
   "codemirror_mode": {
    "name": "ipython",
    "version": 3
   },
   "file_extension": ".py",
   "mimetype": "text/x-python",
   "name": "python",
   "nbconvert_exporter": "python",
   "pygments_lexer": "ipython3",
   "version": "3.8.10"
  },
  "orig_nbformat": 4,
  "vscode": {
   "interpreter": {
    "hash": "916dbcbb3f70747c44a77c7bcd40155683ae19c65e1c03b4aa3499c5328201f1"
   }
  }
 },
 "nbformat": 4,
 "nbformat_minor": 2
}
