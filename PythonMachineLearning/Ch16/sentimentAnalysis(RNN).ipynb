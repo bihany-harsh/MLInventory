{
 "cells": [
  {
   "cell_type": "code",
   "execution_count": 1,
   "metadata": {},
   "outputs": [
    {
     "name": "stderr",
     "output_type": "stream",
     "text": [
      "2022-12-17 14:11:35.966855: I tensorflow/core/platform/cpu_feature_guard.cc:193] This TensorFlow binary is optimized with oneAPI Deep Neural Network Library (oneDNN) to use the following CPU instructions in performance-critical operations:  AVX2 FMA\n",
      "To enable them in other operations, rebuild TensorFlow with the appropriate compiler flags.\n",
      "2022-12-17 14:11:36.395227: W tensorflow/compiler/xla/stream_executor/platform/default/dso_loader.cc:64] Could not load dynamic library 'libcudart.so.11.0'; dlerror: libcudart.so.11.0: cannot open shared object file: No such file or directory\n",
      "2022-12-17 14:11:36.395265: I tensorflow/compiler/xla/stream_executor/cuda/cudart_stub.cc:29] Ignore above cudart dlerror if you do not have a GPU set up on your machine.\n",
      "2022-12-17 14:11:37.695687: W tensorflow/compiler/xla/stream_executor/platform/default/dso_loader.cc:64] Could not load dynamic library 'libnvinfer.so.7'; dlerror: libnvinfer.so.7: cannot open shared object file: No such file or directory\n",
      "2022-12-17 14:11:37.695754: W tensorflow/compiler/xla/stream_executor/platform/default/dso_loader.cc:64] Could not load dynamic library 'libnvinfer_plugin.so.7'; dlerror: libnvinfer_plugin.so.7: cannot open shared object file: No such file or directory\n",
      "2022-12-17 14:11:37.695761: W tensorflow/compiler/tf2tensorrt/utils/py_utils.cc:38] TF-TRT Warning: Cannot dlopen some TensorRT libraries. If you would like to use Nvidia GPU with TensorRT, please make sure the missing libraries mentioned above are installed properly.\n",
      "/home/harsh/.local/lib/python3.8/site-packages/pandas/core/computation/expressions.py:21: UserWarning: Pandas requires version '2.7.3' or newer of 'numexpr' (version '2.7.1' currently installed).\n",
      "  from pandas.core.computation.check import NUMEXPR_INSTALLED\n"
     ]
    }
   ],
   "source": [
    "import tensorflow as tf\n",
    "import tensorflow_datasets as tfds\n",
    "import numpy as np\n",
    "import pandas as pd"
   ]
  },
  {
   "cell_type": "code",
   "execution_count": 2,
   "metadata": {},
   "outputs": [],
   "source": [
    "df = pd.read_csv('dataset/movie_data.csv', encoding='utf-8')"
   ]
  },
  {
   "cell_type": "code",
   "execution_count": 3,
   "metadata": {},
   "outputs": [
    {
     "data": {
      "text/html": [
       "<div>\n",
       "<style scoped>\n",
       "    .dataframe tbody tr th:only-of-type {\n",
       "        vertical-align: middle;\n",
       "    }\n",
       "\n",
       "    .dataframe tbody tr th {\n",
       "        vertical-align: top;\n",
       "    }\n",
       "\n",
       "    .dataframe thead th {\n",
       "        text-align: right;\n",
       "    }\n",
       "</style>\n",
       "<table border=\"1\" class=\"dataframe\">\n",
       "  <thead>\n",
       "    <tr style=\"text-align: right;\">\n",
       "      <th></th>\n",
       "      <th>review</th>\n",
       "      <th>sentiment</th>\n",
       "    </tr>\n",
       "  </thead>\n",
       "  <tbody>\n",
       "    <tr>\n",
       "      <th>0</th>\n",
       "      <td>After five years in prison, Tony le Stéphanois...</td>\n",
       "      <td>1</td>\n",
       "    </tr>\n",
       "    <tr>\n",
       "      <th>1</th>\n",
       "      <td>I am a fan of Ed Harris' work and I really had...</td>\n",
       "      <td>0</td>\n",
       "    </tr>\n",
       "    <tr>\n",
       "      <th>2</th>\n",
       "      <td>I can appreciate what Barney is trying to achi...</td>\n",
       "      <td>0</td>\n",
       "    </tr>\n",
       "    <tr>\n",
       "      <th>3</th>\n",
       "      <td>First let me say the director has some wonderf...</td>\n",
       "      <td>1</td>\n",
       "    </tr>\n",
       "    <tr>\n",
       "      <th>4</th>\n",
       "      <td>More wide-eyed, hysterical 50s hyper-cheerfuln...</td>\n",
       "      <td>0</td>\n",
       "    </tr>\n",
       "  </tbody>\n",
       "</table>\n",
       "</div>"
      ],
      "text/plain": [
       "                                              review  sentiment\n",
       "0  After five years in prison, Tony le Stéphanois...          1\n",
       "1  I am a fan of Ed Harris' work and I really had...          0\n",
       "2  I can appreciate what Barney is trying to achi...          0\n",
       "3  First let me say the director has some wonderf...          1\n",
       "4  More wide-eyed, hysterical 50s hyper-cheerfuln...          0"
      ]
     },
     "execution_count": 3,
     "metadata": {},
     "output_type": "execute_result"
    }
   ],
   "source": [
    "df.head()"
   ]
  },
  {
   "cell_type": "code",
   "execution_count": 4,
   "metadata": {},
   "outputs": [
    {
     "name": "stderr",
     "output_type": "stream",
     "text": [
      "2022-12-17 14:11:44.884467: E tensorflow/compiler/xla/stream_executor/cuda/cuda_driver.cc:267] failed call to cuInit: CUDA_ERROR_NO_DEVICE: no CUDA-capable device is detected\n",
      "2022-12-17 14:11:44.884553: I tensorflow/compiler/xla/stream_executor/cuda/cuda_diagnostics.cc:169] retrieving CUDA diagnostic information for host: harsh-IdeaPad-Gaming3-15ARH05D\n",
      "2022-12-17 14:11:44.884568: I tensorflow/compiler/xla/stream_executor/cuda/cuda_diagnostics.cc:176] hostname: harsh-IdeaPad-Gaming3-15ARH05D\n",
      "2022-12-17 14:11:44.884751: I tensorflow/compiler/xla/stream_executor/cuda/cuda_diagnostics.cc:200] libcuda reported version is: 515.65.1\n",
      "2022-12-17 14:11:44.884810: I tensorflow/compiler/xla/stream_executor/cuda/cuda_diagnostics.cc:204] kernel reported version is: NOT_FOUND: could not find kernel module information in driver version file contents: \"NVRM version: NVIDIA UNIX Open Kernel Module for x86_64  515.65.01  Release Build  (dvs-builder@U16-T11-05-2)  Wed Jul 20 13:54:56 UTC 2022\n",
      "GCC version:  gcc version 9.4.0 (Ubuntu 9.4.0-1ubuntu1~20.04.1) \n",
      "\"\n",
      "2022-12-17 14:11:44.887809: I tensorflow/core/platform/cpu_feature_guard.cc:193] This TensorFlow binary is optimized with oneAPI Deep Neural Network Library (oneDNN) to use the following CPU instructions in performance-critical operations:  AVX2 FMA\n",
      "To enable them in other operations, rebuild TensorFlow with the appropriate compiler flags.\n"
     ]
    }
   ],
   "source": [
    "# STEP 1: CREATE A DATASET\n",
    "\n",
    "target = df.pop('sentiment')\n",
    "ds_raw = tf.data.Dataset.from_tensor_slices((df.values, target.values))"
   ]
  },
  {
   "cell_type": "code",
   "execution_count": 5,
   "metadata": {},
   "outputs": [
    {
     "name": "stdout",
     "output_type": "stream",
     "text": [
      "b'After five years in prison, Tony le St\\xc3\\xa9phanois (J' 1\n",
      "b\"I am a fan of Ed Harris' work and I really had hig\" 0\n",
      "b'I can appreciate what Barney is trying to achieve,' 0\n"
     ]
    }
   ],
   "source": [
    "# INSPECTION\n",
    "for ex in ds_raw.take(3):\n",
    "    tf.print(ex[0].numpy()[0][:50], ex[1])"
   ]
  },
  {
   "cell_type": "code",
   "execution_count": 6,
   "metadata": {},
   "outputs": [],
   "source": [
    "# 25K for evaluation, 20K for training and 5K for validation\n",
    "\n",
    "tf.random.set_seed(1)\n",
    "\n",
    "ds_raw = ds_raw.shuffle(50000, reshuffle_each_iteration=False)\n",
    "\n",
    "ds_raw_test = ds_raw.take(25000)\n",
    "ds_raw_train_valid = ds_raw.skip(25000)\n",
    "ds_raw_train = ds_raw_train_valid.take(20000)\n",
    "ds_raw_valid = ds_raw_train_valid.skip(20000)"
   ]
  },
  {
   "cell_type": "code",
   "execution_count": 7,
   "metadata": {},
   "outputs": [
    {
     "name": "stdout",
     "output_type": "stream",
     "text": [
      "Vocab size:  87075\n"
     ]
    }
   ],
   "source": [
    "# STEP 2: FIND UNIQUE TOKENS (WORDS)\n",
    "\n",
    "from collections import Counter\n",
    "\n",
    "tokenizer = tfds.deprecated.text.Tokenizer()\n",
    "token_counts = Counter()\n",
    "\n",
    "for example in ds_raw_train: \n",
    "    tokens = tokenizer.tokenize(example[0].numpy()[0])\n",
    "    token_counts.update(tokens)\n",
    "\n",
    "print('Vocab size: ', len(token_counts))"
   ]
  },
  {
   "cell_type": "code",
   "execution_count": 8,
   "metadata": {},
   "outputs": [
    {
     "name": "stdout",
     "output_type": "stream",
     "text": [
      "[159, 59, 191, 905]\n"
     ]
    }
   ],
   "source": [
    "# STEP 3: ENCODING UNIQUE TOKENS TO INTEGERS\n",
    "\n",
    "encoder = tfds.deprecated.text.TokenTextEncoder(token_counts)\n",
    "\n",
    "example_str = 'This is an example'\n",
    "print(encoder.encode(example_str))"
   ]
  },
  {
   "cell_type": "code",
   "execution_count": 9,
   "metadata": {},
   "outputs": [],
   "source": [
    "# STEP 3-A: DEFINE THE FUNCTION FOR TRANSFORMATION\n",
    "\n",
    "def encode(text_tensor, label):\n",
    "    text = text_tensor.numpy()[0]\n",
    "    encoded_text = encoder.encode(text)\n",
    "\n",
    "    return encoded_text, label"
   ]
  },
  {
   "cell_type": "code",
   "execution_count": 10,
   "metadata": {},
   "outputs": [
    {
     "name": "stdout",
     "output_type": "stream",
     "text": [
      "Sequence lenght:  (170,)\n",
      "Sequence lenght:  (120,)\n",
      "Sequence lenght:  (819,)\n",
      "Sequence lenght:  (610,)\n",
      "Sequence lenght:  (182,)\n"
     ]
    }
   ],
   "source": [
    "# STEP 3-B: WRAP THE ENCODE FUNCTION TO A TF Op.\n",
    "\n",
    "def encode_map_fn(text, label):\n",
    "    return tf.py_function(encode, inp=[text, label], Tout=(tf.int64, tf.int64))\n",
    "\n",
    "ds_train = ds_raw_train.map(encode_map_fn)\n",
    "ds_valid = ds_raw_valid.map(encode_map_fn)\n",
    "ds_test = ds_raw_test.map(encode_map_fn)\n",
    "\n",
    "# look at the shape of some examples\n",
    "tf.random.set_seed(1)\n",
    "for example in ds_train.shuffle(100).take(5):\n",
    "    print('Sequence lenght: ', example[0].shape)"
   ]
  },
  {
   "cell_type": "code",
   "execution_count": 11,
   "metadata": {},
   "outputs": [
    {
     "name": "stdout",
     "output_type": "stream",
     "text": [
      "Individual size:  (253,)\n",
      "Individual size:  (236,)\n",
      "Individual size:  (339,)\n",
      "Individual size:  (297,)\n",
      "Individual size:  (124,)\n",
      "Individual size:  (88,)\n",
      "Individual size:  (127,)\n",
      "Individual size:  (241,)\n"
     ]
    }
   ],
   "source": [
    "# we need to make sure that the sequences in a mini-batch have the\n",
    "# same length to store them efficiently in a tensor\n",
    "\n",
    "# the padded_batch() method pads the consecutive elements that are \n",
    "# to be combined in a batch\n",
    "\n",
    "# take a small subset\n",
    "ds_subset = ds_train.take(8)\n",
    "\n",
    "for example in ds_subset:\n",
    "    print('Individual size: ', example[0].shape)"
   ]
  },
  {
   "cell_type": "code",
   "execution_count": 12,
   "metadata": {},
   "outputs": [
    {
     "name": "stdout",
     "output_type": "stream",
     "text": [
      "Batch dimension:  (4, 339)\n",
      "Batch dimension:  (4, 241)\n"
     ]
    }
   ],
   "source": [
    "# dividing the dataset into batches\n",
    "\n",
    "ds_batched = ds_subset.padded_batch(4, padded_shapes=([-1], []))\n",
    "\n",
    "for batch in ds_batched:\n",
    "    print('Batch dimension: ', batch[0].shape)"
   ]
  },
  {
   "cell_type": "code",
   "execution_count": 13,
   "metadata": {},
   "outputs": [],
   "source": [
    "# lets divide the three datasets into mini-batches with a batch size of 32\n",
    "train_data = ds_train.padded_batch(32, padded_shapes=([-1], []))\n",
    "valid_data = ds_valid.padded_batch(32, padded_shapes=([-1], []))\n",
    "test_data = ds_test.padded_batch(32, padded_shapes=([-1], []))"
   ]
  },
  {
   "cell_type": "code",
   "execution_count": 14,
   "metadata": {},
   "outputs": [
    {
     "name": "stdout",
     "output_type": "stream",
     "text": [
      "Model: \"sequential\"\n",
      "_________________________________________________________________\n",
      " Layer (type)                Output Shape              Param #   \n",
      "=================================================================\n",
      " embed-layer (Embedding)     (None, 20, 6)             600       \n",
      "                                                                 \n",
      "=================================================================\n",
      "Total params: 600\n",
      "Trainable params: 600\n",
      "Non-trainable params: 0\n",
      "_________________________________________________________________\n"
     ]
    }
   ],
   "source": [
    "# example of embedding\n",
    "\n",
    "from tensorflow.keras.layers import Embedding\n",
    "\n",
    "model = tf.keras.Sequential()\n",
    "model.add(Embedding(input_dim=100, output_dim=6, input_length=20, name='embed-layer'))\n",
    "\n",
    "model.summary()"
   ]
  },
  {
   "cell_type": "markdown",
   "metadata": {},
   "source": [
    "BUILDING A **RNN MODEL**"
   ]
  },
  {
   "cell_type": "code",
   "execution_count": 15,
   "metadata": {},
   "outputs": [
    {
     "name": "stdout",
     "output_type": "stream",
     "text": [
      "Model: \"sequential_1\"\n",
      "_________________________________________________________________\n",
      " Layer (type)                Output Shape              Param #   \n",
      "=================================================================\n",
      " embedding (Embedding)       (None, None, 32)          32000     \n",
      "                                                                 \n",
      " simple_rnn (SimpleRNN)      (None, None, 32)          2080      \n",
      "                                                                 \n",
      " simple_rnn_1 (SimpleRNN)    (None, 32)                2080      \n",
      "                                                                 \n",
      " dense (Dense)               (None, 1)                 33        \n",
      "                                                                 \n",
      "=================================================================\n",
      "Total params: 36,193\n",
      "Trainable params: 36,193\n",
      "Non-trainable params: 0\n",
      "_________________________________________________________________\n"
     ]
    }
   ],
   "source": [
    "from tensorflow.keras import Sequential\n",
    "from tensorflow.keras.layers import Embedding\n",
    "from tensorflow.keras.layers import SimpleRNN\n",
    "from tensorflow.keras.layers import Dense\n",
    "\n",
    "model = Sequential()\n",
    "model.add(Embedding(input_dim=1000, output_dim=32))\n",
    "model.add(SimpleRNN(32, return_sequences=True))\n",
    "model.add(SimpleRNN(32))\n",
    "model.add(Dense(1))\n",
    "\n",
    "model.summary()"
   ]
  },
  {
   "cell_type": "markdown",
   "metadata": {},
   "source": [
    "Building an **RNN MODEL** for the **Sentiment Analysis Task**"
   ]
  },
  {
   "cell_type": "code",
   "execution_count": 16,
   "metadata": {},
   "outputs": [
    {
     "name": "stdout",
     "output_type": "stream",
     "text": [
      "Model: \"sequential_2\"\n",
      "_________________________________________________________________\n",
      " Layer (type)                Output Shape              Param #   \n",
      "=================================================================\n",
      " embed-layer (Embedding)     (None, None, 20)          1741540   \n",
      "                                                                 \n",
      " bidir-lstm (Bidirectional)  (None, 128)               43520     \n",
      "                                                                 \n",
      " dense_1 (Dense)             (None, 64)                8256      \n",
      "                                                                 \n",
      " dense_2 (Dense)             (None, 1)                 65        \n",
      "                                                                 \n",
      "=================================================================\n",
      "Total params: 1,793,381\n",
      "Trainable params: 1,793,381\n",
      "Non-trainable params: 0\n",
      "_________________________________________________________________\n"
     ]
    }
   ],
   "source": [
    "# we shall use the Bidirectional Wrapper whcih will make the recurrent layers to pass through the input sequences from both directions\n",
    "embedding_dim = 20\n",
    "vocab_size = len(token_counts) + 2\n",
    "\n",
    "tf.random.set_seed(1)\n",
    "\n",
    "# build the model\n",
    "bi_lstm_model = tf.keras.Sequential([\n",
    "    tf.keras.layers.Embedding(\n",
    "        input_dim=vocab_size,\n",
    "        output_dim=embedding_dim,\n",
    "        name='embed-layer'\n",
    "    ),\n",
    "\n",
    "    tf.keras.layers.Bidirectional(\n",
    "        tf.keras.layers.LSTM(64, name='lstm-layer'),\n",
    "        name='bidir-lstm'\n",
    "    ),\n",
    "\n",
    "    tf.keras.layers.Dense(64, activation='relu'),\n",
    "\n",
    "    tf.keras.layers.Dense(1, activation='sigmoid')\n",
    "])\n",
    "\n",
    "bi_lstm_model.summary()"
   ]
  },
  {
   "cell_type": "code",
   "execution_count": 17,
   "metadata": {},
   "outputs": [],
   "source": [
    "bi_lstm_model.compile(\n",
    "    optimizer=tf.keras.optimizers.Adam(1e-3),\n",
    "    loss=tf.keras.losses.BinaryCrossentropy(from_logits=False),\n",
    "    metrics=['accuracy']\n",
    ")"
   ]
  },
  {
   "cell_type": "code",
   "execution_count": 18,
   "metadata": {},
   "outputs": [
    {
     "name": "stdout",
     "output_type": "stream",
     "text": [
      "Epoch 1/10\n",
      "625/625 [==============================] - 195s 308ms/step - loss: 0.5137 - accuracy: 0.7419 - val_loss: 0.4382 - val_accuracy: 0.8250\n",
      "Epoch 2/10\n",
      "625/625 [==============================] - 185s 295ms/step - loss: 0.2976 - accuracy: 0.8817 - val_loss: 0.4189 - val_accuracy: 0.8210\n",
      "Epoch 3/10\n",
      "625/625 [==============================] - 188s 301ms/step - loss: 0.1787 - accuracy: 0.9345 - val_loss: 0.4406 - val_accuracy: 0.8276\n",
      "Epoch 4/10\n",
      "625/625 [==============================] - 177s 283ms/step - loss: 0.0927 - accuracy: 0.9708 - val_loss: 0.5647 - val_accuracy: 0.8412\n",
      "Epoch 5/10\n",
      "625/625 [==============================] - 179s 285ms/step - loss: 0.0511 - accuracy: 0.9846 - val_loss: 0.7077 - val_accuracy: 0.8472\n",
      "Epoch 6/10\n",
      "625/625 [==============================] - 179s 286ms/step - loss: 0.0460 - accuracy: 0.9840 - val_loss: 0.7167 - val_accuracy: 0.8472\n",
      "Epoch 7/10\n",
      "625/625 [==============================] - 180s 287ms/step - loss: 0.0382 - accuracy: 0.9878 - val_loss: 0.6592 - val_accuracy: 0.8270\n",
      "Epoch 8/10\n",
      "625/625 [==============================] - 199s 317ms/step - loss: 0.0328 - accuracy: 0.9891 - val_loss: 0.8091 - val_accuracy: 0.8218\n",
      "Epoch 9/10\n",
      "625/625 [==============================] - 200s 320ms/step - loss: 0.0211 - accuracy: 0.9930 - val_loss: 0.9634 - val_accuracy: 0.8208\n",
      "Epoch 10/10\n",
      "625/625 [==============================] - 195s 311ms/step - loss: 0.0185 - accuracy: 0.9937 - val_loss: 0.7582 - val_accuracy: 0.8288\n"
     ]
    }
   ],
   "source": [
    "history = bi_lstm_model.fit(\n",
    "    train_data,\n",
    "    validation_data=valid_data,\n",
    "    epochs=10\n",
    ")"
   ]
  },
  {
   "cell_type": "code",
   "execution_count": 19,
   "metadata": {},
   "outputs": [
    {
     "name": "stdout",
     "output_type": "stream",
     "text": [
      "782/782 [==============================] - 77s 98ms/step - loss: 0.7231 - accuracy: 0.8304\n",
      "Test acc.: 83.04%\n"
     ]
    }
   ],
   "source": [
    "# evaluate the test data\n",
    "test_results = bi_lstm_model.evaluate(test_data)\n",
    "print('Test acc.: {:.2f}%'.format(test_results[1]*100))"
   ]
  },
  {
   "cell_type": "code",
   "execution_count": 20,
   "metadata": {},
   "outputs": [],
   "source": [
    "# TRYINg SOMETHING NEW\n",
    "\n",
    "# we shall use only the last 'max_seq_length' tokens if the review is \n",
    "# longer than it\n",
    "\n",
    "from collections import Counter\n",
    "def preprocess_datasets(ds_raw_train, ds_raw_valid, ds_raw_test, max_seq_length=None, batch_size=32):\n",
    "    # finding unique tokens\n",
    "    tokenizer = tfds.deprecated.text.Tokenizer()\n",
    "    token_counts = Counter()\n",
    "\n",
    "    for example in ds_raw_train:\n",
    "        tokens = tokenizer.tokenize(example[0].numpy()[0])\n",
    "        if max_seq_length is not None:\n",
    "            tokens = tokens[-max_seq_length:]\n",
    "        token_counts.update(tokens)\n",
    "    \n",
    "    print('Voacb size: ', len(token_counts))\n",
    "\n",
    "    # encoding the texts\n",
    "    encoder = tfds.deprecated.text.TokenTextEncoder(token_counts)\n",
    "\n",
    "    def encode(text_tensor, label):\n",
    "        text = text_tensor.numpy()[0]\n",
    "        encoded_text = encoder.encode(text)\n",
    "        if max_seq_length is not None:\n",
    "            encoded_text = encoded_text[-max_seq_length:]\n",
    "        \n",
    "        return encoded_text, label\n",
    "    \n",
    "    def encode_map_fn(text, label):\n",
    "        return tf.py_function(encode, inp=[text, label], Tout=(tf.int64, tf.int64))\n",
    "\n",
    "    ds_train = ds_raw_train.map(encode_map_fn)\n",
    "    ds_valid = ds_raw_valid.map(encode_map_fn)\n",
    "    ds_test = ds_raw_test.map(encode_map_fn)\n",
    "\n",
    "    # batching\n",
    "    train_data = ds_train.padded_batch(batch_size, padded_shapes=([-1], []))\n",
    "    valid_data = ds_valid.padded_batch(batch_size, padded_shapes=([-1], []))\n",
    "    test_data = ds_test.padded_batch(batch_size, padded_shapes=([-1], []))\n",
    "\n",
    "    return (train_data, valid_data, test_data, len(token_counts))\n"
   ]
  },
  {
   "cell_type": "code",
   "execution_count": 23,
   "metadata": {},
   "outputs": [],
   "source": [
    "from tensorflow.keras.layers import Embedding\n",
    "from tensorflow.keras.layers import Bidirectional\n",
    "from tensorflow.keras.layers import SimpleRNN\n",
    "from tensorflow.keras.layers import LSTM\n",
    "from tensorflow.keras.layers import GRU\n",
    "# gated recurrent unit (advancement of an RNN)\n",
    "\n",
    "def build_rnn_model(embedding_dim, vocab_size, \n",
    "                    recurrent_type='SimpleRNN', \n",
    "                    n_recurrent_units=64, \n",
    "                    n_recurrent_layers=1, \n",
    "                    bidirectional=True):\n",
    "    tf.random.set_seed(1)\n",
    "\n",
    "    # build the model\n",
    "\n",
    "    model = tf.keras.Sequential()\n",
    "    model.add(\n",
    "        Embedding(\n",
    "            input_dim=vocab_size,\n",
    "            output_dim=embedding_dim,\n",
    "            name='embed-layer'\n",
    "        )\n",
    "    )\n",
    "\n",
    "    for i in range(n_recurrent_layers):\n",
    "        return_sequences = (i < n_recurrent_layers-1)\n",
    "\n",
    "        if recurrent_type == 'SimpleRNN':\n",
    "            recurrent_layer = SimpleRNN(\n",
    "                units=n_recurrent_units,\n",
    "                return_sequences=return_sequences,\n",
    "                name='simplernn-layer-{}'.format(i)\n",
    "            )\n",
    "        elif recurrent_type == 'LSTM':\n",
    "            recurrent_layer = LSTM(\n",
    "                units=n_recurrent_units,\n",
    "                return_sequences=return_sequences,\n",
    "                name='lstm-layer-{}'.format(i)\n",
    "            )\n",
    "        elif recurrent_type == 'GRU':\n",
    "            recurrent_layer = GRU(\n",
    "                units=n_recurrent_units,\n",
    "                return_sequences=return_sequences,\n",
    "                name='gru-layer-{}'.format(i)\n",
    "            )\n",
    "        \n",
    "        if bidirectional:\n",
    "            recurrent_layer = Bidirectional(\n",
    "                recurrent_layer,\n",
    "                name='bidir-'+recurrent_layer.name\n",
    "            )\n",
    "        \n",
    "        model.add(recurrent_layer)\n",
    "    \n",
    "    model.add(tf.keras.layers.Dense(64, activation='relu'))\n",
    "    model.add(tf.keras.layers.Dense(1, activation='sigmoid'))\n",
    "\n",
    "    return model"
   ]
  },
  {
   "cell_type": "code",
   "execution_count": 24,
   "metadata": {},
   "outputs": [
    {
     "name": "stdout",
     "output_type": "stream",
     "text": [
      "Voacb size:  58027\n",
      "Model: \"sequential_4\"\n",
      "_________________________________________________________________\n",
      " Layer (type)                Output Shape              Param #   \n",
      "=================================================================\n",
      " embed-layer (Embedding)     (None, None, 20)          1160580   \n",
      "                                                                 \n",
      " bidir-simplernn-layer-0 (Bi  (None, 128)              10880     \n",
      " directional)                                                    \n",
      "                                                                 \n",
      " dense_3 (Dense)             (None, 64)                8256      \n",
      "                                                                 \n",
      " dense_4 (Dense)             (None, 1)                 65        \n",
      "                                                                 \n",
      "=================================================================\n",
      "Total params: 1,179,781\n",
      "Trainable params: 1,179,781\n",
      "Non-trainable params: 0\n",
      "_________________________________________________________________\n"
     ]
    }
   ],
   "source": [
    "batch_size = 32\n",
    "embedding_dim = 20\n",
    "max_seq_length = 100\n",
    "\n",
    "train_data, valid_data, test_data, n = preprocess_datasets(\n",
    "    ds_raw_train, ds_raw_valid, ds_raw_test, \n",
    "    max_seq_length=max_seq_length,\n",
    "    batch_size=batch_size\n",
    ")\n",
    "\n",
    "vocab_size = n + 2\n",
    "\n",
    "rnn_model = build_rnn_model(embedding_dim, vocab_size, recurrent_type='SimpleRNN', n_recurrent_units=64, n_recurrent_layers=1, bidirectional=True)\n",
    "\n",
    "rnn_model.summary()"
   ]
  },
  {
   "cell_type": "code",
   "execution_count": 25,
   "metadata": {},
   "outputs": [
    {
     "name": "stdout",
     "output_type": "stream",
     "text": [
      "Epoch 1/10\n",
      "625/625 [==============================] - 30s 42ms/step - loss: 0.6968 - accuracy: 0.5088 - val_loss: 0.6751 - val_accuracy: 0.5850\n",
      "Epoch 2/10\n",
      "625/625 [==============================] - 28s 43ms/step - loss: 0.5642 - accuracy: 0.6995 - val_loss: 0.4525 - val_accuracy: 0.7940\n",
      "Epoch 3/10\n",
      "625/625 [==============================] - 26s 40ms/step - loss: 0.3105 - accuracy: 0.8682 - val_loss: 0.4581 - val_accuracy: 0.8016\n",
      "Epoch 4/10\n",
      "625/625 [==============================] - 26s 41ms/step - loss: 0.1499 - accuracy: 0.9447 - val_loss: 0.6535 - val_accuracy: 0.7310\n",
      "Epoch 5/10\n",
      "625/625 [==============================] - 25s 40ms/step - loss: 0.0963 - accuracy: 0.9635 - val_loss: 0.8132 - val_accuracy: 0.7412\n",
      "Epoch 6/10\n",
      "625/625 [==============================] - 25s 40ms/step - loss: 0.0460 - accuracy: 0.9843 - val_loss: 0.8676 - val_accuracy: 0.7738\n",
      "Epoch 7/10\n",
      "625/625 [==============================] - 25s 40ms/step - loss: 0.0243 - accuracy: 0.9922 - val_loss: 1.0452 - val_accuracy: 0.7976\n",
      "Epoch 8/10\n",
      "625/625 [==============================] - 25s 40ms/step - loss: 0.0150 - accuracy: 0.9948 - val_loss: 1.1018 - val_accuracy: 0.7650\n",
      "Epoch 9/10\n",
      "625/625 [==============================] - 25s 40ms/step - loss: 0.0073 - accuracy: 0.9978 - val_loss: 1.2180 - val_accuracy: 0.7624\n",
      "Epoch 10/10\n",
      "625/625 [==============================] - 25s 40ms/step - loss: 0.0132 - accuracy: 0.9955 - val_loss: 1.2050 - val_accuracy: 0.7678\n"
     ]
    }
   ],
   "source": [
    "rnn_model.compile(\n",
    "    optimizer=tf.keras.optimizers.Adam(1e-3),\n",
    "    loss=tf.keras.losses.BinaryCrossentropy(\n",
    "    from_logits=False), metrics=['accuracy'])\n",
    "\n",
    "history = rnn_model.fit(\n",
    "    train_data,\n",
    "    validation_data=valid_data,\n",
    "    epochs=10)"
   ]
  },
  {
   "cell_type": "code",
   "execution_count": 26,
   "metadata": {},
   "outputs": [
    {
     "name": "stdout",
     "output_type": "stream",
     "text": [
      "782/782 [==============================] - 18s 23ms/step - loss: 1.2042 - accuracy: 0.7680\n",
      "Test Acc.: 76.80%\n"
     ]
    }
   ],
   "source": [
    "results = rnn_model.evaluate(test_data)\n",
    "print('Test Acc.: {:.2f}%'.format(results[1]*100))"
   ]
  }
 ],
 "metadata": {
  "kernelspec": {
   "display_name": "Python 3.8.10 64-bit",
   "language": "python",
   "name": "python3"
  },
  "language_info": {
   "codemirror_mode": {
    "name": "ipython",
    "version": 3
   },
   "file_extension": ".py",
   "mimetype": "text/x-python",
   "name": "python",
   "nbconvert_exporter": "python",
   "pygments_lexer": "ipython3",
   "version": "3.8.10"
  },
  "orig_nbformat": 4,
  "vscode": {
   "interpreter": {
    "hash": "916dbcbb3f70747c44a77c7bcd40155683ae19c65e1c03b4aa3499c5328201f1"
   }
  }
 },
 "nbformat": 4,
 "nbformat_minor": 2
}
