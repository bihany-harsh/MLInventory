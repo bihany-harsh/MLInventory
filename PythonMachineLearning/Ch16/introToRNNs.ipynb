{
 "cells": [
  {
   "cell_type": "code",
   "execution_count": 9,
   "metadata": {},
   "outputs": [],
   "source": [
    "import tensorflow as tf\n",
    "tf.random.set_seed(1)"
   ]
  },
  {
   "cell_type": "code",
   "execution_count": 10,
   "metadata": {},
   "outputs": [
    {
     "name": "stdout",
     "output_type": "stream",
     "text": [
      "W_xh shape:  (5, 2)\n",
      "W_oo shape:  (2, 2)\n",
      "b_h shape:  (2,)\n"
     ]
    }
   ],
   "source": [
    "rnn_layer = tf.keras.layers.SimpleRNN(\n",
    "    units = 2, use_bias=True,\n",
    "    return_sequences=True)\n",
    "\n",
    "rnn_layer.build(input_shape=(None, None, 5))\n",
    "# first dimension is batchsize, second dimension \n",
    "# corresponds to the sequence and the third \n",
    "# is due to the 5 features\n",
    "\n",
    "w_xh, w_oo, b_h = rnn_layer.weights\n",
    "\n",
    "print('W_xh shape: ', w_xh.shape)\n",
    "print('W_oo shape: ', w_oo.shape)\n",
    "print('b_h shape: ', b_h.shape)"
   ]
  },
  {
   "cell_type": "code",
   "execution_count": 15,
   "metadata": {},
   "outputs": [
    {
     "name": "stdout",
     "output_type": "stream",
     "text": [
      "Time step 0 =>\n",
      "    Input        : [[1. 1. 1. 1. 1.]]\n",
      "    Hidden        : [[-2.1537392 -0.4006076]]\n",
      "    Output (manual) : [[-0.97342294 -0.38046867]]\n",
      "    SimpleRNN output: [-0.97342294 -0.38046867]\n",
      "\n",
      "Time step 1 =>\n",
      "    Input        : [[2. 2. 2. 2. 2.]]\n",
      "    Hidden        : [[-4.3074784 -0.8012152]]\n",
      "    Output (manual) : [[-0.9999496  -0.42651713]]\n",
      "    SimpleRNN output: [-0.9999496  -0.42651713]\n",
      "\n",
      "Time step 2 =>\n",
      "    Input        : [[3. 3. 3. 3. 3.]]\n",
      "    Hidden        : [[-6.4612174 -1.2018226]]\n",
      "    Output (manual) : [[-0.9999992 -0.6702318]]\n",
      "    SimpleRNN output: [-0.9999992 -0.6702318]\n",
      "\n"
     ]
    }
   ],
   "source": [
    "x_seq = tf.convert_to_tensor(\n",
    "    [[1.0]*5, [2.0]*5, [3.0]*5], dtype=tf.float32)\n",
    "\n",
    "# output of simpleRNN layer\n",
    "output = rnn_layer(tf.reshape(x_seq, shape=(1, 3, 5)))\n",
    "\n",
    "# manually computing the output\n",
    "out_man = []\n",
    "for t in range(len(x_seq)):\n",
    "    xt = tf.reshape(x_seq[t], (1, 5))\n",
    "    print('Time step {} =>'.format(t))\n",
    "    print('    Input        :', xt.numpy())\n",
    "\n",
    "    ht = tf.matmul(xt, w_xh) + b_h\n",
    "    print('    Hidden        :', ht.numpy())\n",
    "\n",
    "    if t > 0:\n",
    "        prev_o = out_man[t-1]\n",
    "    else:\n",
    "        prev_o = tf.zeros(shape=(ht.shape))\n",
    "    \n",
    "    ot = ht + tf.matmul(prev_o, w_oo)\n",
    "    ot = tf.math.tanh(ot)\n",
    "    # standard activation in SimpleRNN is tanh\n",
    "\n",
    "    out_man.append(ot)\n",
    "\n",
    "    print('    Output (manual) :', ot.numpy())\n",
    "    print('    SimpleRNN output:'.format(t), output[0][t].numpy())\n",
    "    print()"
   ]
  }
 ],
 "metadata": {
  "kernelspec": {
   "display_name": "Python 3.8.10 64-bit",
   "language": "python",
   "name": "python3"
  },
  "language_info": {
   "codemirror_mode": {
    "name": "ipython",
    "version": 3
   },
   "file_extension": ".py",
   "mimetype": "text/x-python",
   "name": "python",
   "nbconvert_exporter": "python",
   "pygments_lexer": "ipython3",
   "version": "3.8.10"
  },
  "orig_nbformat": 4,
  "vscode": {
   "interpreter": {
    "hash": "916dbcbb3f70747c44a77c7bcd40155683ae19c65e1c03b4aa3499c5328201f1"
   }
  }
 },
 "nbformat": 4,
 "nbformat_minor": 2
}
