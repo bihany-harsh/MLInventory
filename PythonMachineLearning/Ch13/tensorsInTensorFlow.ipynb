{
  "cells": [
    {
      "cell_type": "code",
      "execution_count": 45,
      "metadata": {
        "colab": {
          "base_uri": "https://localhost:8080/"
        },
        "id": "qng72PE65OGn",
        "outputId": "6c3a2f56-0b59-4b32-bd88-ef9eef24e0a5"
      },
      "outputs": [
        {
          "name": "stdout",
          "output_type": "stream",
          "text": [
            "2.9.2\n"
          ]
        }
      ],
      "source": [
        "import tensorflow as tf\n",
        "print(tf.__version__)"
      ]
    },
    {
      "cell_type": "markdown",
      "metadata": {
        "id": "O0uaryOW9LSR"
      },
      "source": [
        "Creating tensors in TensorFlow"
      ]
    },
    {
      "cell_type": "code",
      "execution_count": 46,
      "metadata": {
        "colab": {
          "base_uri": "https://localhost:8080/"
        },
        "id": "hnfsiEfa5fFO",
        "outputId": "6310ada8-aaab-42ba-cc81-a979402467b9"
      },
      "outputs": [
        {
          "name": "stdout",
          "output_type": "stream",
          "text": [
            "tf.Tensor([1 2 3], shape=(3,), dtype=int32)\n",
            "tf.Tensor([4 5 6], shape=(3,), dtype=int32)\n"
          ]
        }
      ],
      "source": [
        "import tensorflow as tf\n",
        "import numpy as np\n",
        "np.set_printoptions(precision=3)\n",
        "a = np.array([1, 2, 3], dtype=np.int32)\n",
        "b = [4, 5, 6]\n",
        "t_a = tf.convert_to_tensor(a)\n",
        "t_b = tf.convert_to_tensor(b)\n",
        "\n",
        "print(t_a)\n",
        "print(t_b)"
      ]
    },
    {
      "cell_type": "code",
      "execution_count": 47,
      "metadata": {
        "colab": {
          "base_uri": "https://localhost:8080/"
        },
        "id": "C6nVJqJC9PFg",
        "outputId": "56067278-b75e-4dab-b880-f556c716d801"
      },
      "outputs": [
        {
          "data": {
            "text/plain": [
              "array([1, 2, 3], dtype=int32)"
            ]
          },
          "execution_count": 47,
          "metadata": {},
          "output_type": "execute_result"
        }
      ],
      "source": [
        "# to access the values that a tensor refers to, we can simply call the .numpy() method\n",
        "\n",
        "t_a.numpy()"
      ]
    },
    {
      "cell_type": "markdown",
      "metadata": {
        "id": "Ks9hlyB89ids"
      },
      "source": [
        "Manipulating tensors"
      ]
    },
    {
      "cell_type": "code",
      "execution_count": 48,
      "metadata": {
        "colab": {
          "base_uri": "https://localhost:8080/"
        },
        "id": "J44rBdOs9kHn",
        "outputId": "4b3143cc-dd8e-4202-95f1-da7cad5a1186"
      },
      "outputs": [
        {
          "name": "stdout",
          "output_type": "stream",
          "text": [
            "<dtype: 'int64'>\n"
          ]
        }
      ],
      "source": [
        "# tf.cast() to change shape to desired datatype\n",
        "t_a_new = tf.cast(t_a, tf.int64)\n",
        "print(t_a_new.dtype)"
      ]
    },
    {
      "cell_type": "code",
      "execution_count": 49,
      "metadata": {
        "colab": {
          "base_uri": "https://localhost:8080/"
        },
        "id": "aEpvl5MH9yVh",
        "outputId": "1e4066b7-c453-4f51-b0b3-adfd9a5ae2e2"
      },
      "outputs": [
        {
          "name": "stdout",
          "output_type": "stream",
          "text": [
            "(3, 5) --> (5, 3)\n"
          ]
        }
      ],
      "source": [
        "# transposing a vector\n",
        "t = tf.random.uniform(shape=(3, 5))\n",
        "t_T = tf.transpose(t)\n",
        "print(t.shape, '-->', t_T.shape)"
      ]
    },
    {
      "cell_type": "code",
      "execution_count": 50,
      "metadata": {
        "colab": {
          "base_uri": "https://localhost:8080/"
        },
        "id": "cha_ujBF-FrF",
        "outputId": "045be920-8c8b-4a89-ac1c-063a494c30c1"
      },
      "outputs": [
        {
          "name": "stdout",
          "output_type": "stream",
          "text": [
            "[[0. 0. 0. 0. 0. 0.]\n",
            " [0. 0. 0. 0. 0. 0.]\n",
            " [0. 0. 0. 0. 0. 0.]\n",
            " [0. 0. 0. 0. 0. 0.]\n",
            " [0. 0. 0. 0. 0. 0.]]\n"
          ]
        }
      ],
      "source": [
        "# reshaping the tensor\n",
        "t = tf.zeros((30, ))\n",
        "t_reshape = tf.reshape(t, shape=(5, 6))\n",
        "print(t_reshape.numpy())"
      ]
    },
    {
      "cell_type": "markdown",
      "metadata": {
        "id": "swn2Lun5-a_X"
      },
      "source": [
        "Applying mathematical operations to tensors"
      ]
    },
    {
      "cell_type": "code",
      "execution_count": 51,
      "metadata": {
        "id": "ty-FERJS-TAu"
      },
      "outputs": [],
      "source": [
        "tf.random.set_seed(1)\n",
        "\n",
        "t1 = tf.random.uniform(shape=(5, 2), minval=-1.0, maxval=1.0)\n",
        "t2 = tf.random.normal(shape=(5, 2), mean=0.0, stddev=1.0)"
      ]
    },
    {
      "cell_type": "code",
      "execution_count": 52,
      "metadata": {
        "colab": {
          "base_uri": "https://localhost:8080/"
        },
        "id": "WXbFgUvn-yCv",
        "outputId": "ba33cf60-f146-44c1-bfd4-96556b55f850"
      },
      "outputs": [
        {
          "data": {
            "text/plain": [
              "array([[-0.27 , -0.874],\n",
              "       [-0.017, -0.175],\n",
              "       [-0.296, -0.139],\n",
              "       [-0.727,  0.135],\n",
              "       [-0.401,  0.004]], dtype=float32)"
            ]
          },
          "execution_count": 52,
          "metadata": {},
          "output_type": "execute_result"
        }
      ],
      "source": [
        "# hadamard product\n",
        "t3 = tf.multiply(t1, t2).numpy()\n",
        "t3"
      ]
    },
    {
      "cell_type": "code",
      "execution_count": 53,
      "metadata": {
        "colab": {
          "base_uri": "https://localhost:8080/"
        },
        "id": "ydpAGZfW_U1Z",
        "outputId": "78374434-8094-470e-d4a5-8aacfe0d3e6b"
      },
      "outputs": [
        {
          "data": {
            "text/plain": [
              "array([0.09 , 0.207], dtype=float32)"
            ]
          },
          "execution_count": 53,
          "metadata": {},
          "output_type": "execute_result"
        }
      ],
      "source": [
        "# to calculate mean, sum or stddev along a particular axis\n",
        "t4 = tf.math.reduce_mean(t1, axis=0).numpy()\n",
        "t4"
      ]
    },
    {
      "cell_type": "code",
      "execution_count": 54,
      "metadata": {
        "colab": {
          "base_uri": "https://localhost:8080/"
        },
        "id": "2N_VwwCE_lEG",
        "outputId": "801c8b29-1663-4a61-ae88-054f1fc2008e"
      },
      "outputs": [
        {
          "data": {
            "text/plain": [
              "array([[-1.144,  1.115, -0.87 , -0.321,  0.856],\n",
              "       [ 0.248, -0.191,  0.25 , -0.064, -0.331],\n",
              "       [-0.478,  0.407, -0.436,  0.022,  0.527],\n",
              "       [ 0.525, -0.234,  0.741, -0.593, -1.194],\n",
              "       [-0.099,  0.26 ,  0.125, -0.462, -0.396]], dtype=float32)"
            ]
          },
          "execution_count": 54,
          "metadata": {},
          "output_type": "execute_result"
        }
      ],
      "source": [
        "# matrix multiplication\n",
        "t5 = tf.linalg.matmul(t1, t2, transpose_b=True).numpy()\n",
        "t5"
      ]
    },
    {
      "cell_type": "markdown",
      "metadata": {
        "id": "jGzk1NVR_5xm"
      },
      "source": [
        "Split, stack and concatenate tensors"
      ]
    },
    {
      "cell_type": "code",
      "execution_count": 55,
      "metadata": {
        "colab": {
          "base_uri": "https://localhost:8080/"
        },
        "id": "34BUnt9c_x7w",
        "outputId": "fcf1bdf7-f37c-4060-c753-f1d3783444ad"
      },
      "outputs": [
        {
          "name": "stdout",
          "output_type": "stream",
          "text": [
            "[0.165 0.901 0.631 0.435 0.292 0.643]\n"
          ]
        }
      ],
      "source": [
        "tf.random.set_seed(1)\n",
        "t = tf.random.uniform((6, ))\n",
        "print(t.numpy())"
      ]
    },
    {
      "cell_type": "code",
      "execution_count": 56,
      "metadata": {
        "colab": {
          "base_uri": "https://localhost:8080/"
        },
        "id": "AeZbVZKsCJC_",
        "outputId": "84f826a9-dce4-43bc-b5b9-351a1df00899"
      },
      "outputs": [
        {
          "data": {
            "text/plain": [
              "[array([0.165, 0.901], dtype=float32),\n",
              " array([0.631, 0.435], dtype=float32),\n",
              " array([0.292, 0.643], dtype=float32)]"
            ]
          },
          "execution_count": 56,
          "metadata": {},
          "output_type": "execute_result"
        }
      ],
      "source": [
        "t_splits = tf.split(t, num_or_size_splits=3)\n",
        "[items.numpy() for items in t_splits]"
      ]
    },
    {
      "cell_type": "code",
      "execution_count": 57,
      "metadata": {
        "colab": {
          "base_uri": "https://localhost:8080/"
        },
        "id": "QzXrEmdwCWCC",
        "outputId": "f1f0b9ec-1dc8-40fa-ed97-e89f0e1d8a52"
      },
      "outputs": [
        {
          "data": {
            "text/plain": [
              "[array([0.165, 0.901, 0.631, 0.435], dtype=float32),\n",
              " array([0.292, 0.643], dtype=float32)]"
            ]
          },
          "execution_count": 57,
          "metadata": {},
          "output_type": "execute_result"
        }
      ],
      "source": [
        "t_splits = tf.split(t, num_or_size_splits=[4, 2])\n",
        "[item.numpy() for item in t_splits]"
      ]
    },
    {
      "cell_type": "code",
      "execution_count": 58,
      "metadata": {
        "colab": {
          "base_uri": "https://localhost:8080/"
        },
        "id": "ZuDM23SUCpIy",
        "outputId": "5e3d9842-077e-425e-8d17-f5ded79310dd"
      },
      "outputs": [
        {
          "data": {
            "text/plain": [
              "array([1., 1., 1., 0., 0.], dtype=float32)"
            ]
          },
          "execution_count": 58,
          "metadata": {},
          "output_type": "execute_result"
        }
      ],
      "source": [
        "A = tf.ones((3, ))\n",
        "B = tf.zeros((2, ))\n",
        "C = tf.concat([A, B], axis=0)\n",
        "C.numpy()"
      ]
    },
    {
      "cell_type": "code",
      "execution_count": 59,
      "metadata": {
        "colab": {
          "base_uri": "https://localhost:8080/"
        },
        "id": "-CMVTz8eC18h",
        "outputId": "6d43214a-999b-408f-98d0-4a36c5b44e4e"
      },
      "outputs": [
        {
          "data": {
            "text/plain": [
              "array([[1., 0.],\n",
              "       [1., 0.],\n",
              "       [1., 0.]], dtype=float32)"
            ]
          },
          "execution_count": 59,
          "metadata": {},
          "output_type": "execute_result"
        }
      ],
      "source": [
        "A = tf.ones((3,))\n",
        "B = tf.zeros((3,))\n",
        "S = tf.stack([A, B], axis=1)\n",
        "S.numpy()"
      ]
    },
    {
      "cell_type": "markdown",
      "metadata": {
        "id": "nZ3hyRAIDBY2"
      },
      "source": [
        "Building input piplines"
      ]
    },
    {
      "cell_type": "code",
      "execution_count": 60,
      "metadata": {
        "colab": {
          "base_uri": "https://localhost:8080/"
        },
        "id": "3-1ikuR7C8nn",
        "outputId": "0fd88419-cc08-4d06-82d0-030f2d0d5293"
      },
      "outputs": [
        {
          "name": "stdout",
          "output_type": "stream",
          "text": [
            "<TensorSliceDataset element_spec=TensorSpec(shape=(), dtype=tf.float32, name=None)>\n"
          ]
        }
      ],
      "source": [
        "a = [1.2, 3.4, 7.5, 4.1, 5.0, 1.0]\n",
        "ds = tf.data.Dataset.from_tensor_slices(a)\n",
        "print(ds)"
      ]
    },
    {
      "cell_type": "code",
      "execution_count": 61,
      "metadata": {
        "colab": {
          "base_uri": "https://localhost:8080/"
        },
        "id": "QV-q_nU4Ezaz",
        "outputId": "d05fabd2-7b8d-4a9e-cfef-39a1d458e43d"
      },
      "outputs": [
        {
          "name": "stdout",
          "output_type": "stream",
          "text": [
            "tf.Tensor(1.2, shape=(), dtype=float32)\n",
            "tf.Tensor(3.4, shape=(), dtype=float32)\n",
            "tf.Tensor(7.5, shape=(), dtype=float32)\n",
            "tf.Tensor(4.1, shape=(), dtype=float32)\n",
            "tf.Tensor(5.0, shape=(), dtype=float32)\n",
            "tf.Tensor(1.0, shape=(), dtype=float32)\n"
          ]
        }
      ],
      "source": [
        "for item in ds:\n",
        "  print(item)"
      ]
    },
    {
      "cell_type": "code",
      "execution_count": 62,
      "metadata": {
        "colab": {
          "base_uri": "https://localhost:8080/"
        },
        "id": "LB6tNbirFNVN",
        "outputId": "671f45e9-c374-4c1c-e880-036304e55613"
      },
      "outputs": [
        {
          "name": "stdout",
          "output_type": "stream",
          "text": [
            "batch 1: [1.2 3.4 7.5]\n",
            "batch 2: [4.1 5.  1. ]\n"
          ]
        }
      ],
      "source": [
        "ds_batch = ds.batch(3)\n",
        "for i, elem in enumerate(ds_batch, 1):\n",
        "  print('batch {}:'.format(i), elem.numpy())"
      ]
    },
    {
      "cell_type": "markdown",
      "metadata": {
        "id": "-5vY-2g8Fszy"
      },
      "source": [
        "combining two tensors into a joint dataset"
      ]
    },
    {
      "cell_type": "code",
      "execution_count": 63,
      "metadata": {
        "id": "jeeLYPZuFg-p"
      },
      "outputs": [],
      "source": [
        "tf.random.set_seed(1)\n",
        "t_x = tf.random.uniform([4, 3], dtype=tf.float32)\n",
        "t_y = tf.range(4)"
      ]
    },
    {
      "cell_type": "code",
      "execution_count": 64,
      "metadata": {
        "colab": {
          "base_uri": "https://localhost:8080/"
        },
        "id": "lonFP8CVF6B8",
        "outputId": "ab14ba1e-ef7e-4a32-c399-326b02123a76"
      },
      "outputs": [
        {
          "name": "stdout",
          "output_type": "stream",
          "text": [
            "x:  [0.165 0.901 0.631]  y:  0\n",
            "x:  [0.435 0.292 0.643]  y:  1\n",
            "x:  [0.976 0.435 0.66 ]  y:  2\n",
            "x:  [0.605 0.637 0.614]  y:  3\n"
          ]
        }
      ],
      "source": [
        "ds_x = tf.data.Dataset.from_tensor_slices(t_x)\n",
        "ds_y = tf.data.Dataset.from_tensor_slices(t_y)\n",
        "ds_joint = tf.data.Dataset.zip((ds_x, ds_y))\n",
        "for example in ds_joint:\n",
        "  print('x: ', example[0].numpy(), ' y: ', example[1].numpy())"
      ]
    },
    {
      "cell_type": "code",
      "execution_count": 65,
      "metadata": {
        "colab": {
          "base_uri": "https://localhost:8080/"
        },
        "id": "bzo54eAqGsOb",
        "outputId": "aa063002-aa58-4a37-ca40-613e4bbc00dd"
      },
      "outputs": [
        {
          "name": "stdout",
          "output_type": "stream",
          "text": [
            "x:  [0.165 0.901 0.631]  y:  0\n",
            "x:  [0.435 0.292 0.643]  y:  1\n",
            "x:  [0.976 0.435 0.66 ]  y:  2\n",
            "x:  [0.605 0.637 0.614]  y:  3\n"
          ]
        }
      ],
      "source": [
        "# alternatively\n",
        "ds_joint = tf.data.Dataset.from_tensor_slices((t_x, t_y))\n",
        "for example in ds_joint:\n",
        "  print('x: ', example[0].numpy(), ' y: ', example[1].numpy())"
      ]
    },
    {
      "cell_type": "markdown",
      "metadata": {
        "id": "395bX8JmHH64"
      },
      "source": [
        "shuffle, batch, repeat"
      ]
    },
    {
      "cell_type": "code",
      "execution_count": 70,
      "metadata": {
        "colab": {
          "base_uri": "https://localhost:8080/"
        },
        "id": "PYv9R3laHKg4",
        "outputId": "4b413fb3-8b04-4c53-a2a1-bcb44d9be042"
      },
      "outputs": [
        {
          "data": {
            "text/plain": [
              "<TensorSliceDataset element_spec=(TensorSpec(shape=(3,), dtype=tf.float32, name=None), TensorSpec(shape=(), dtype=tf.int32, name=None))>"
            ]
          },
          "execution_count": 70,
          "metadata": {},
          "output_type": "execute_result"
        }
      ],
      "source": [
        "ds_joint"
      ]
    },
    {
      "cell_type": "code",
      "execution_count": 72,
      "metadata": {
        "colab": {
          "base_uri": "https://localhost:8080/"
        },
        "id": "9o_bjngFHpP-",
        "outputId": "12960a6c-7eed-4d0e-aa18-714b61d10e14"
      },
      "outputs": [
        {
          "name": "stdout",
          "output_type": "stream",
          "text": [
            "x:  [0.976 0.435 0.66 ]  y:  2\n",
            "x:  [0.435 0.292 0.643]  y:  1\n",
            "x:  [0.165 0.901 0.631]  y:  0\n",
            "x:  [0.605 0.637 0.614]  y:  3\n"
          ]
        }
      ],
      "source": [
        "ds = ds_joint.shuffle(buffer_size=len(t_x))\n",
        "for example in ds:\n",
        "  print('x: ', example[0].numpy(), ' y: ', example[1].numpy())"
      ]
    },
    {
      "cell_type": "code",
      "execution_count": 73,
      "metadata": {
        "colab": {
          "base_uri": "https://localhost:8080/"
        },
        "id": "pRfZYnh7IEfV",
        "outputId": "c642ec9c-9661-411e-ca94-47593c9ad2ef"
      },
      "outputs": [
        {
          "name": "stdout",
          "output_type": "stream",
          "text": [
            "Batch-x\"\n",
            " [[0.165 0.901 0.631]\n",
            " [0.435 0.292 0.643]\n",
            " [0.976 0.435 0.66 ]]\n",
            "Batch-y\"\n",
            " [0 1 2]\n"
          ]
        }
      ],
      "source": [
        "ds = ds_joint.batch(batch_size=3, drop_remainder=False)\n",
        "batch_x, batch_y = next(iter(ds))\n",
        "print('Batch-x\"\\n', batch_x.numpy())\n",
        "print('Batch-y\"\\n', batch_y.numpy())"
      ]
    },
    {
      "cell_type": "code",
      "execution_count": 75,
      "metadata": {
        "colab": {
          "base_uri": "https://localhost:8080/"
        },
        "id": "dFU92HHzKj_f",
        "outputId": "ab7a63c8-e0fd-4756-93e1-be745ea02c80"
      },
      "outputs": [
        {
          "name": "stdout",
          "output_type": "stream",
          "text": [
            "0 (3, 3) [0 1 2]\n",
            "1 (1, 3) [3]\n",
            "2 (3, 3) [0 1 2]\n",
            "3 (1, 3) [3]\n"
          ]
        }
      ],
      "source": [
        "ds = ds_joint.batch(3).repeat(count=2)\n",
        "for i, (batch_x, batch_y) in enumerate(ds):\n",
        "  print(i, batch_x.shape, batch_y.numpy())"
      ]
    },
    {
      "cell_type": "code",
      "execution_count": 76,
      "metadata": {
        "colab": {
          "base_uri": "https://localhost:8080/"
        },
        "id": "-rtlBKlWLcSH",
        "outputId": "f424e30a-97a0-45f6-d9f1-a698a8e5915b"
      },
      "outputs": [
        {
          "name": "stdout",
          "output_type": "stream",
          "text": [
            "0 (3, 3) [0 1 2]\n",
            "1 (3, 3) [3 0 1]\n",
            "2 (2, 3) [2 3]\n"
          ]
        }
      ],
      "source": [
        "ds = ds_joint.repeat(count=2).batch(3)\n",
        "for i, (batch_x, batch_y) in enumerate(ds):\n",
        "  print(i, batch_x.shape, batch_y.numpy())"
      ]
    }
  ],
  "metadata": {
    "colab": {
      "provenance": []
    },
    "kernelspec": {
      "display_name": "Python 3.8.10 64-bit",
      "language": "python",
      "name": "python3"
    },
    "language_info": {
      "codemirror_mode": {
        "name": "ipython",
        "version": 3
      },
      "file_extension": ".py",
      "mimetype": "text/x-python",
      "name": "python",
      "nbconvert_exporter": "python",
      "pygments_lexer": "ipython3",
      "version": "3.8.10"
    },
    "vscode": {
      "interpreter": {
        "hash": "916dbcbb3f70747c44a77c7bcd40155683ae19c65e1c03b4aa3499c5328201f1"
      }
    }
  },
  "nbformat": 4,
  "nbformat_minor": 0
}
