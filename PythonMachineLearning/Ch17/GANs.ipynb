{
  "nbformat": 4,
  "nbformat_minor": 0,
  "metadata": {
    "colab": {
      "provenance": []
    },
    "kernelspec": {
      "name": "python3",
      "display_name": "Python 3"
    },
    "language_info": {
      "name": "python"
    },
    "accelerator": "GPU",
    "gpuClass": "standard",
    "widgets": {
      "application/vnd.jupyter.widget-state+json": {
        "3f7f17d0ef5f4a5b905aeb0be9e3258f": {
          "model_module": "@jupyter-widgets/controls",
          "model_name": "HBoxModel",
          "model_module_version": "1.5.0",
          "state": {
            "_dom_classes": [],
            "_model_module": "@jupyter-widgets/controls",
            "_model_module_version": "1.5.0",
            "_model_name": "HBoxModel",
            "_view_count": null,
            "_view_module": "@jupyter-widgets/controls",
            "_view_module_version": "1.5.0",
            "_view_name": "HBoxView",
            "box_style": "",
            "children": [
              "IPY_MODEL_a182ea3bf7af448e869abf53a5a12b1a",
              "IPY_MODEL_a21be5f4e7164f02947e6d2fe7b360a6",
              "IPY_MODEL_ec6b4146e52a4e88b9c6d0f725ef2985"
            ],
            "layout": "IPY_MODEL_7ce5dcadfcf5487fb447e241fb8f9fa0"
          }
        },
        "a182ea3bf7af448e869abf53a5a12b1a": {
          "model_module": "@jupyter-widgets/controls",
          "model_name": "HTMLModel",
          "model_module_version": "1.5.0",
          "state": {
            "_dom_classes": [],
            "_model_module": "@jupyter-widgets/controls",
            "_model_module_version": "1.5.0",
            "_model_name": "HTMLModel",
            "_view_count": null,
            "_view_module": "@jupyter-widgets/controls",
            "_view_module_version": "1.5.0",
            "_view_name": "HTMLView",
            "description": "",
            "description_tooltip": null,
            "layout": "IPY_MODEL_eb7d7642d4b5439cb6929bdabea82d78",
            "placeholder": "​",
            "style": "IPY_MODEL_c3884d227a9a457dbb580c948dbe62d3",
            "value": "Dl Completed...: 100%"
          }
        },
        "a21be5f4e7164f02947e6d2fe7b360a6": {
          "model_module": "@jupyter-widgets/controls",
          "model_name": "FloatProgressModel",
          "model_module_version": "1.5.0",
          "state": {
            "_dom_classes": [],
            "_model_module": "@jupyter-widgets/controls",
            "_model_module_version": "1.5.0",
            "_model_name": "FloatProgressModel",
            "_view_count": null,
            "_view_module": "@jupyter-widgets/controls",
            "_view_module_version": "1.5.0",
            "_view_name": "ProgressView",
            "bar_style": "success",
            "description": "",
            "description_tooltip": null,
            "layout": "IPY_MODEL_b4f254fd45cc494db88da26b6452cc95",
            "max": 4,
            "min": 0,
            "orientation": "horizontal",
            "style": "IPY_MODEL_c252cdd0745d42299e400a5fa5a02478",
            "value": 4
          }
        },
        "ec6b4146e52a4e88b9c6d0f725ef2985": {
          "model_module": "@jupyter-widgets/controls",
          "model_name": "HTMLModel",
          "model_module_version": "1.5.0",
          "state": {
            "_dom_classes": [],
            "_model_module": "@jupyter-widgets/controls",
            "_model_module_version": "1.5.0",
            "_model_name": "HTMLModel",
            "_view_count": null,
            "_view_module": "@jupyter-widgets/controls",
            "_view_module_version": "1.5.0",
            "_view_name": "HTMLView",
            "description": "",
            "description_tooltip": null,
            "layout": "IPY_MODEL_4a76b1e823004edc858e0fcc720fd01f",
            "placeholder": "​",
            "style": "IPY_MODEL_317443a7e00f42ae8c63d75996b36e0c",
            "value": " 4/4 [00:03&lt;00:00,  1.02s/ file]"
          }
        },
        "7ce5dcadfcf5487fb447e241fb8f9fa0": {
          "model_module": "@jupyter-widgets/base",
          "model_name": "LayoutModel",
          "model_module_version": "1.2.0",
          "state": {
            "_model_module": "@jupyter-widgets/base",
            "_model_module_version": "1.2.0",
            "_model_name": "LayoutModel",
            "_view_count": null,
            "_view_module": "@jupyter-widgets/base",
            "_view_module_version": "1.2.0",
            "_view_name": "LayoutView",
            "align_content": null,
            "align_items": null,
            "align_self": null,
            "border": null,
            "bottom": null,
            "display": null,
            "flex": null,
            "flex_flow": null,
            "grid_area": null,
            "grid_auto_columns": null,
            "grid_auto_flow": null,
            "grid_auto_rows": null,
            "grid_column": null,
            "grid_gap": null,
            "grid_row": null,
            "grid_template_areas": null,
            "grid_template_columns": null,
            "grid_template_rows": null,
            "height": null,
            "justify_content": null,
            "justify_items": null,
            "left": null,
            "margin": null,
            "max_height": null,
            "max_width": null,
            "min_height": null,
            "min_width": null,
            "object_fit": null,
            "object_position": null,
            "order": null,
            "overflow": null,
            "overflow_x": null,
            "overflow_y": null,
            "padding": null,
            "right": null,
            "top": null,
            "visibility": null,
            "width": null
          }
        },
        "eb7d7642d4b5439cb6929bdabea82d78": {
          "model_module": "@jupyter-widgets/base",
          "model_name": "LayoutModel",
          "model_module_version": "1.2.0",
          "state": {
            "_model_module": "@jupyter-widgets/base",
            "_model_module_version": "1.2.0",
            "_model_name": "LayoutModel",
            "_view_count": null,
            "_view_module": "@jupyter-widgets/base",
            "_view_module_version": "1.2.0",
            "_view_name": "LayoutView",
            "align_content": null,
            "align_items": null,
            "align_self": null,
            "border": null,
            "bottom": null,
            "display": null,
            "flex": null,
            "flex_flow": null,
            "grid_area": null,
            "grid_auto_columns": null,
            "grid_auto_flow": null,
            "grid_auto_rows": null,
            "grid_column": null,
            "grid_gap": null,
            "grid_row": null,
            "grid_template_areas": null,
            "grid_template_columns": null,
            "grid_template_rows": null,
            "height": null,
            "justify_content": null,
            "justify_items": null,
            "left": null,
            "margin": null,
            "max_height": null,
            "max_width": null,
            "min_height": null,
            "min_width": null,
            "object_fit": null,
            "object_position": null,
            "order": null,
            "overflow": null,
            "overflow_x": null,
            "overflow_y": null,
            "padding": null,
            "right": null,
            "top": null,
            "visibility": null,
            "width": null
          }
        },
        "c3884d227a9a457dbb580c948dbe62d3": {
          "model_module": "@jupyter-widgets/controls",
          "model_name": "DescriptionStyleModel",
          "model_module_version": "1.5.0",
          "state": {
            "_model_module": "@jupyter-widgets/controls",
            "_model_module_version": "1.5.0",
            "_model_name": "DescriptionStyleModel",
            "_view_count": null,
            "_view_module": "@jupyter-widgets/base",
            "_view_module_version": "1.2.0",
            "_view_name": "StyleView",
            "description_width": ""
          }
        },
        "b4f254fd45cc494db88da26b6452cc95": {
          "model_module": "@jupyter-widgets/base",
          "model_name": "LayoutModel",
          "model_module_version": "1.2.0",
          "state": {
            "_model_module": "@jupyter-widgets/base",
            "_model_module_version": "1.2.0",
            "_model_name": "LayoutModel",
            "_view_count": null,
            "_view_module": "@jupyter-widgets/base",
            "_view_module_version": "1.2.0",
            "_view_name": "LayoutView",
            "align_content": null,
            "align_items": null,
            "align_self": null,
            "border": null,
            "bottom": null,
            "display": null,
            "flex": null,
            "flex_flow": null,
            "grid_area": null,
            "grid_auto_columns": null,
            "grid_auto_flow": null,
            "grid_auto_rows": null,
            "grid_column": null,
            "grid_gap": null,
            "grid_row": null,
            "grid_template_areas": null,
            "grid_template_columns": null,
            "grid_template_rows": null,
            "height": null,
            "justify_content": null,
            "justify_items": null,
            "left": null,
            "margin": null,
            "max_height": null,
            "max_width": null,
            "min_height": null,
            "min_width": null,
            "object_fit": null,
            "object_position": null,
            "order": null,
            "overflow": null,
            "overflow_x": null,
            "overflow_y": null,
            "padding": null,
            "right": null,
            "top": null,
            "visibility": null,
            "width": null
          }
        },
        "c252cdd0745d42299e400a5fa5a02478": {
          "model_module": "@jupyter-widgets/controls",
          "model_name": "ProgressStyleModel",
          "model_module_version": "1.5.0",
          "state": {
            "_model_module": "@jupyter-widgets/controls",
            "_model_module_version": "1.5.0",
            "_model_name": "ProgressStyleModel",
            "_view_count": null,
            "_view_module": "@jupyter-widgets/base",
            "_view_module_version": "1.2.0",
            "_view_name": "StyleView",
            "bar_color": null,
            "description_width": ""
          }
        },
        "4a76b1e823004edc858e0fcc720fd01f": {
          "model_module": "@jupyter-widgets/base",
          "model_name": "LayoutModel",
          "model_module_version": "1.2.0",
          "state": {
            "_model_module": "@jupyter-widgets/base",
            "_model_module_version": "1.2.0",
            "_model_name": "LayoutModel",
            "_view_count": null,
            "_view_module": "@jupyter-widgets/base",
            "_view_module_version": "1.2.0",
            "_view_name": "LayoutView",
            "align_content": null,
            "align_items": null,
            "align_self": null,
            "border": null,
            "bottom": null,
            "display": null,
            "flex": null,
            "flex_flow": null,
            "grid_area": null,
            "grid_auto_columns": null,
            "grid_auto_flow": null,
            "grid_auto_rows": null,
            "grid_column": null,
            "grid_gap": null,
            "grid_row": null,
            "grid_template_areas": null,
            "grid_template_columns": null,
            "grid_template_rows": null,
            "height": null,
            "justify_content": null,
            "justify_items": null,
            "left": null,
            "margin": null,
            "max_height": null,
            "max_width": null,
            "min_height": null,
            "min_width": null,
            "object_fit": null,
            "object_position": null,
            "order": null,
            "overflow": null,
            "overflow_x": null,
            "overflow_y": null,
            "padding": null,
            "right": null,
            "top": null,
            "visibility": null,
            "width": null
          }
        },
        "317443a7e00f42ae8c63d75996b36e0c": {
          "model_module": "@jupyter-widgets/controls",
          "model_name": "DescriptionStyleModel",
          "model_module_version": "1.5.0",
          "state": {
            "_model_module": "@jupyter-widgets/controls",
            "_model_module_version": "1.5.0",
            "_model_name": "DescriptionStyleModel",
            "_view_count": null,
            "_view_module": "@jupyter-widgets/base",
            "_view_module_version": "1.2.0",
            "_view_name": "StyleView",
            "description_width": ""
          }
        }
      }
    }
  },
  "cells": [
    {
      "cell_type": "code",
      "execution_count": null,
      "metadata": {
        "colab": {
          "base_uri": "https://localhost:8080/"
        },
        "id": "F-9rfN3xI8Vr",
        "outputId": "af43a9ba-ed41-44a4-ae35-9a58b9654bac"
      },
      "outputs": [
        {
          "output_type": "stream",
          "name": "stdout",
          "text": [
            "2.9.2\n"
          ]
        }
      ],
      "source": [
        "import tensorflow as tf\n",
        "print(tf.__version__)"
      ]
    },
    {
      "cell_type": "code",
      "source": [
        "print('GPU avaialbale: ', tf.test.is_gpu_available())"
      ],
      "metadata": {
        "colab": {
          "base_uri": "https://localhost:8080/"
        },
        "id": "VuIVe-KDJ0vL",
        "outputId": "2183a468-b884-454a-aea4-97934af2fe62"
      },
      "execution_count": null,
      "outputs": [
        {
          "output_type": "stream",
          "name": "stderr",
          "text": [
            "WARNING:tensorflow:From <ipython-input-2-9f153b494d13>:1: is_gpu_available (from tensorflow.python.framework.test_util) is deprecated and will be removed in a future version.\n",
            "Instructions for updating:\n",
            "Use `tf.config.list_physical_devices('GPU')` instead.\n"
          ]
        },
        {
          "output_type": "stream",
          "name": "stdout",
          "text": [
            "GPU avaialbale:  True\n"
          ]
        }
      ]
    },
    {
      "cell_type": "code",
      "source": [
        "if tf.test.is_gpu_available():\n",
        "  device_name = tf.test.gpu_device_name()\n",
        "else:\n",
        "  device_name = '/CPU:0'\n",
        "print(device_name)"
      ],
      "metadata": {
        "colab": {
          "base_uri": "https://localhost:8080/"
        },
        "id": "B0C9SRg5J_j8",
        "outputId": "97a39910-5c31-4a6b-8048-588b621341c3"
      },
      "execution_count": null,
      "outputs": [
        {
          "output_type": "stream",
          "name": "stdout",
          "text": [
            "/device:GPU:0\n"
          ]
        }
      ]
    },
    {
      "cell_type": "markdown",
      "source": [
        "##IMPLEMENTING THE GAN MODEL##"
      ],
      "metadata": {
        "id": "iOEDxQquMEe0"
      }
    },
    {
      "cell_type": "markdown",
      "source": [
        "**Generator Model**:<br>\n",
        "input (20): random z<br>\n",
        "dense_1 (100) : leaky ReLU activation <br>\n",
        "dense_2 (784) : tanh activation <br>\n",
        "reshaped into MNIST handwritten digits\n",
        "\n",
        "**Discrimantor Model**:<br>\n",
        "Input(28 x 28): either real of fake image<br>\n",
        "unfolded into 784-sized vector<br>\n",
        "dense_1 (100): leaky ReLU activation<br>\n",
        "output : probability"
      ],
      "metadata": {
        "id": "Dl7-24cULE_K"
      }
    },
    {
      "cell_type": "code",
      "source": [
        "import tensorflow as tf\n",
        "import tensorflow_datasets as tfds\n",
        "import numpy as np\n",
        "import matplotlib.pyplot as plt"
      ],
      "metadata": {
        "id": "tEFDeH92KOi_"
      },
      "execution_count": null,
      "outputs": []
    },
    {
      "cell_type": "code",
      "source": [
        "# Define a function for the generator\n",
        "def make_generator_network(\n",
        "    num_hidden_layers=1,\n",
        "    num_hidden_units=100,\n",
        "    num_output_units=784):\n",
        "  model = tf.keras.Sequential()\n",
        "  for i in range(num_hidden_layers):\n",
        "    model.add(\n",
        "        tf.keras.layers.Dense(\n",
        "            units=num_hidden_units,\n",
        "            use_bias=False\n",
        "        )\n",
        "    )\n",
        "    model.add(\n",
        "        tf.keras.layers.LeakyReLU()\n",
        "    )\n",
        "  model.add(\n",
        "      tf.keras.layers.Dense(\n",
        "          units=num_output_units,\n",
        "          activation='tanh'\n",
        "      )\n",
        "  )\n",
        "  return model"
      ],
      "metadata": {
        "id": "m9amuM_eMXfK"
      },
      "execution_count": null,
      "outputs": []
    },
    {
      "cell_type": "code",
      "source": [
        "# Define a function for the discriminator\n",
        "def make_discriminator_network(\n",
        "    num_hidden_layers=1,\n",
        "    num_hidden_units=100,\n",
        "    num_output_units=1):\n",
        "  model = tf.keras.Sequential()\n",
        "  for i in range(num_hidden_layers):\n",
        "    model.add(\n",
        "        tf.keras.layers.Dense(units=num_hidden_units)\n",
        "    )\n",
        "    model.add(\n",
        "        tf.keras.layers.LeakyReLU()\n",
        "    )\n",
        "    model.add(\n",
        "        tf.keras.layers.Dropout(rate=0.5)\n",
        "    )\n",
        "  model.add(\n",
        "      tf.keras.layers.Dense(\n",
        "          units=num_output_units,\n",
        "          activation=None\n",
        "      )\n",
        "  )\n",
        "  return model"
      ],
      "metadata": {
        "id": "OMgEOxs0NODf"
      },
      "execution_count": null,
      "outputs": []
    },
    {
      "cell_type": "code",
      "source": [
        "image_size = (28, 28)\n",
        "z_size = 20\n",
        "mode_z = 'uniform' # uniform vs normal\n",
        "gen_hidden_layers = 1\n",
        "gen_hidden_size = 100\n",
        "disc_hidden_layers = 1\n",
        "disc_hidden_size = 100\n",
        "\n",
        "tf.random.set_seed(1)\n",
        "\n",
        "gen_model = make_generator_network(\n",
        "    num_hidden_layers=gen_hidden_layers,\n",
        "    num_hidden_units=gen_hidden_size,\n",
        "    num_output_units=np.prod(image_size)\n",
        ")\n",
        "\n",
        "gen_model.build(input_shape=(None, z_size))\n",
        "gen_model.summary()"
      ],
      "metadata": {
        "colab": {
          "base_uri": "https://localhost:8080/"
        },
        "id": "Z6yaZ64TOLKZ",
        "outputId": "d93b270e-bbfa-43e1-e33c-0ba6256ee233"
      },
      "execution_count": null,
      "outputs": [
        {
          "output_type": "stream",
          "name": "stdout",
          "text": [
            "Model: \"sequential\"\n",
            "_________________________________________________________________\n",
            " Layer (type)                Output Shape              Param #   \n",
            "=================================================================\n",
            " dense (Dense)               (None, 100)               2000      \n",
            "                                                                 \n",
            " leaky_re_lu (LeakyReLU)     (None, 100)               0         \n",
            "                                                                 \n",
            " dense_1 (Dense)             (None, 784)               79184     \n",
            "                                                                 \n",
            "=================================================================\n",
            "Total params: 81,184\n",
            "Trainable params: 81,184\n",
            "Non-trainable params: 0\n",
            "_________________________________________________________________\n"
          ]
        }
      ]
    },
    {
      "cell_type": "code",
      "source": [
        "disc_model = make_discriminator_network(\n",
        "    num_hidden_layers=disc_hidden_layers,\n",
        "    num_hidden_units=disc_hidden_size\n",
        ")\n",
        "\n",
        "disc_model.build(input_shape=(None, np.prod(image_size)))\n",
        "disc_model.summary()"
      ],
      "metadata": {
        "colab": {
          "base_uri": "https://localhost:8080/"
        },
        "id": "O_P-Rav3QHmc",
        "outputId": "f5f856ce-d5e3-45f0-b7a3-4d1c794ddbb5"
      },
      "execution_count": null,
      "outputs": [
        {
          "output_type": "stream",
          "name": "stdout",
          "text": [
            "Model: \"sequential_1\"\n",
            "_________________________________________________________________\n",
            " Layer (type)                Output Shape              Param #   \n",
            "=================================================================\n",
            " dense_2 (Dense)             (None, 100)               78500     \n",
            "                                                                 \n",
            " leaky_re_lu_1 (LeakyReLU)   (None, 100)               0         \n",
            "                                                                 \n",
            " dropout (Dropout)           (None, 100)               0         \n",
            "                                                                 \n",
            " dense_3 (Dense)             (None, 1)                 101       \n",
            "                                                                 \n",
            "=================================================================\n",
            "Total params: 78,601\n",
            "Trainable params: 78,601\n",
            "Non-trainable params: 0\n",
            "_________________________________________________________________\n"
          ]
        }
      ]
    },
    {
      "cell_type": "markdown",
      "source": [
        "**Defining the training dataset**"
      ],
      "metadata": {
        "id": "2dC3UZuJQjlB"
      }
    },
    {
      "cell_type": "code",
      "source": [
        "mnist_bldr = tfds.builder('mnist')\n",
        "mnist_bldr.download_and_prepare()\n",
        "mnist = mnist_bldr.as_dataset(shuffle_files=False)"
      ],
      "metadata": {
        "colab": {
          "base_uri": "https://localhost:8080/",
          "height": 104,
          "referenced_widgets": [
            "3f7f17d0ef5f4a5b905aeb0be9e3258f",
            "a182ea3bf7af448e869abf53a5a12b1a",
            "a21be5f4e7164f02947e6d2fe7b360a6",
            "ec6b4146e52a4e88b9c6d0f725ef2985",
            "7ce5dcadfcf5487fb447e241fb8f9fa0",
            "eb7d7642d4b5439cb6929bdabea82d78",
            "c3884d227a9a457dbb580c948dbe62d3",
            "b4f254fd45cc494db88da26b6452cc95",
            "c252cdd0745d42299e400a5fa5a02478",
            "4a76b1e823004edc858e0fcc720fd01f",
            "317443a7e00f42ae8c63d75996b36e0c"
          ]
        },
        "id": "sg4C9M_JQjBk",
        "outputId": "d4a6065e-51f7-493a-c563-ba34b0d9bd6d"
      },
      "execution_count": null,
      "outputs": [
        {
          "output_type": "stream",
          "name": "stdout",
          "text": [
            "Downloading and preparing dataset 11.06 MiB (download: 11.06 MiB, generated: 21.00 MiB, total: 32.06 MiB) to ~/tensorflow_datasets/mnist/3.0.1...\n"
          ]
        },
        {
          "output_type": "display_data",
          "data": {
            "text/plain": [
              "Dl Completed...:   0%|          | 0/4 [00:00<?, ? file/s]"
            ],
            "application/vnd.jupyter.widget-view+json": {
              "version_major": 2,
              "version_minor": 0,
              "model_id": "3f7f17d0ef5f4a5b905aeb0be9e3258f"
            }
          },
          "metadata": {}
        },
        {
          "output_type": "stream",
          "name": "stdout",
          "text": [
            "Dataset mnist downloaded and prepared to ~/tensorflow_datasets/mnist/3.0.1. Subsequent calls will reuse this data.\n"
          ]
        }
      ]
    },
    {
      "cell_type": "code",
      "source": [
        "def preprocess(ex, mode='uniform'):\n",
        "  image = ex['image']\n",
        "  image = tf.image.convert_image_dtype(image, tf.float32)\n",
        "  image = tf.reshape(image, [-1])\n",
        "  image = image*2 -1.0\n",
        "\n",
        "  if mode == 'uniform':\n",
        "    input_z = tf.random.uniform(\n",
        "        shape=(z_size, ), minval=-1.0, maxval=1.0\n",
        "    )\n",
        "  elif mode == 'normal':\n",
        "    input_z = tf.random.normal(shape=(z_size,))\n",
        "  \n",
        "  return input_z, image"
      ],
      "metadata": {
        "id": "6epkJJZXSVMd"
      },
      "execution_count": null,
      "outputs": []
    },
    {
      "cell_type": "code",
      "source": [
        "mnist_trainset = mnist['train']\n",
        "mnist_trainset = mnist_trainset.map(preprocess)"
      ],
      "metadata": {
        "id": "3fXtJnSnTGXz"
      },
      "execution_count": null,
      "outputs": []
    },
    {
      "cell_type": "code",
      "source": [
        "mnist_trainset = mnist_trainset.batch(32, drop_remainder=True)\n",
        "input_z, input_real = next(iter(mnist_trainset))\n",
        "\n",
        "print('input-z -- shape: ', input_z.shape)\n",
        "print('input-real -- shape:', input_real.shape)"
      ],
      "metadata": {
        "colab": {
          "base_uri": "https://localhost:8080/"
        },
        "id": "Weif-_EiaHfO",
        "outputId": "04f02915-1700-443d-a248-dc527bf6e2cb"
      },
      "execution_count": null,
      "outputs": [
        {
          "output_type": "stream",
          "name": "stdout",
          "text": [
            "input-z -- shape:  (32, 20)\n",
            "input-real -- shape: (32, 784)\n"
          ]
        }
      ]
    },
    {
      "cell_type": "code",
      "source": [
        "g_output = gen_model(input_z)\n",
        "print('Output of G -- shape:', g_output.shape)"
      ],
      "metadata": {
        "colab": {
          "base_uri": "https://localhost:8080/"
        },
        "id": "0talz_CHaOF2",
        "outputId": "9d807c16-f767-405b-9425-7370eda0e990"
      },
      "execution_count": null,
      "outputs": [
        {
          "output_type": "stream",
          "name": "stdout",
          "text": [
            "Output of G -- shape: (32, 784)\n"
          ]
        }
      ]
    },
    {
      "cell_type": "code",
      "source": [
        "d_logits_real = disc_model(input_real)\n",
        "d_logits_fake = disc_model(g_output)\n",
        "\n",
        "print('Disc. (real) -- shape: ', d_logits_real.shape)\n",
        "print('Disc. (fake) -- shape: ', d_logits_fake.shape)"
      ],
      "metadata": {
        "colab": {
          "base_uri": "https://localhost:8080/"
        },
        "id": "QbfnO8MXaRZM",
        "outputId": "62435527-dde3-4b3e-9049-e21c47e3a06c"
      },
      "execution_count": null,
      "outputs": [
        {
          "output_type": "stream",
          "name": "stdout",
          "text": [
            "Disc. (real) -- shape:  (32, 1)\n",
            "Disc. (fake) -- shape:  (32, 1)\n"
          ]
        }
      ]
    },
    {
      "cell_type": "markdown",
      "source": [
        "###Training the GAN Model###"
      ],
      "metadata": {
        "id": "65bOQ8v-ajW_"
      }
    },
    {
      "cell_type": "code",
      "source": [
        "loss_fn = tf.keras.losses.BinaryCrossentropy(from_logits=True)\n",
        "\n",
        "# Loss for the generator\n",
        "g_labels_real = tf.ones_like(d_logits_fake)\n",
        "g_loss = loss_fn(y_true=g_labels_real, y_pred=d_logits_fake)\n",
        "\n",
        "print('Generator loss: {:.4f}'.format(g_loss))"
      ],
      "metadata": {
        "colab": {
          "base_uri": "https://localhost:8080/"
        },
        "id": "gsvg1ho-ahRy",
        "outputId": "09109f97-fbb1-4b58-dee9-f3c47d6f9cc0"
      },
      "execution_count": null,
      "outputs": [
        {
          "output_type": "stream",
          "name": "stdout",
          "text": [
            "Generator loss: 0.7355\n"
          ]
        }
      ]
    },
    {
      "cell_type": "code",
      "source": [
        "# Loss for the discriminator\n",
        "d_labels_real = tf.ones_like(d_logits_real)\n",
        "d_labels_fake = tf.zeros_like(d_logits_fake)\n",
        "\n",
        "d_loss_real = loss_fn(y_true=d_labels_real, y_pred=d_logits_real)\n",
        "d_loss_fake = loss_fn(y_true=d_labels_fake, y_pred=d_logits_fake)\n",
        "\n",
        "print('Discriminator Losses: Real {:.4f} Fake {:.4f}'\n",
        "      .format(d_loss_real.numpy(), d_loss_fake.numpy()))"
      ],
      "metadata": {
        "colab": {
          "base_uri": "https://localhost:8080/"
        },
        "id": "6e05GMhTbRcW",
        "outputId": "2c771fdb-80ae-471e-eac7-a1c9a1a1806a"
      },
      "execution_count": null,
      "outputs": [
        {
          "output_type": "stream",
          "name": "stdout",
          "text": [
            "Discriminator Losses: Real 1.5073 Fake 0.6583\n"
          ]
        }
      ]
    },
    {
      "cell_type": "markdown",
      "source": [
        "now we will use *GradientTape()* to compute loss gradients with respect to the model and use Adam optimizer"
      ],
      "metadata": {
        "id": "Qm6SuAy-bzjk"
      }
    },
    {
      "cell_type": "code",
      "source": [
        "import time\n",
        "\n",
        "\n",
        "num_epochs = 100\n",
        "batch_size = 64\n",
        "image_size = (28, 28)\n",
        "z_size = 20\n",
        "mode_z = 'uniform'\n",
        "gen_hidden_layers = 1\n",
        "gen_hidden_size = 100\n",
        "disc_hidden_layers = 1\n",
        "disc_hidden_size = 100\n",
        "\n",
        "tf.random.set_seed(1)\n",
        "np.random.seed(1)\n",
        "\n",
        "\n",
        "if mode_z == 'uniform':\n",
        "    fixed_z = tf.random.uniform(\n",
        "        shape=(batch_size, z_size),\n",
        "        minval=-1, maxval=1)\n",
        "elif mode_z == 'normal':\n",
        "    fixed_z = tf.random.normal(\n",
        "        shape=(batch_size, z_size))\n",
        "\n",
        "\n",
        "def create_samples(g_model, input_z):\n",
        "    g_output = g_model(input_z, training=False)\n",
        "    images = tf.reshape(g_output, (batch_size, *image_size))    \n",
        "    return (images+1)/2.0\n",
        "\n",
        "## Set-up the dataset\n",
        "mnist_trainset = mnist['train']\n",
        "mnist_trainset = mnist_trainset.map(\n",
        "    lambda ex: preprocess(ex, mode=mode_z))\n",
        "\n",
        "mnist_trainset = mnist_trainset.shuffle(10000)\n",
        "mnist_trainset = mnist_trainset.batch(\n",
        "    batch_size, drop_remainder=True)\n",
        "\n",
        "## Set-up the model\n",
        "with tf.device(device_name):\n",
        "    gen_model = make_generator_network(\n",
        "        num_hidden_layers=gen_hidden_layers, \n",
        "        num_hidden_units=gen_hidden_size,\n",
        "        num_output_units=np.prod(image_size))\n",
        "    gen_model.build(input_shape=(None, z_size))\n",
        "\n",
        "    disc_model = make_discriminator_network(\n",
        "        num_hidden_layers=disc_hidden_layers,\n",
        "        num_hidden_units=disc_hidden_size)\n",
        "    disc_model.build(input_shape=(None, np.prod(image_size)))\n",
        "\n",
        "## Loss function and optimizers:\n",
        "loss_fn = tf.keras.losses.BinaryCrossentropy(from_logits=True)\n",
        "g_optimizer = tf.keras.optimizers.Adam()\n",
        "d_optimizer = tf.keras.optimizers.Adam()\n",
        "\n",
        "all_losses = []\n",
        "all_d_vals = []\n",
        "epoch_samples = []\n",
        "\n",
        "start_time = time.time()\n",
        "for epoch in range(1, num_epochs+1):\n",
        "    epoch_losses, epoch_d_vals = [], []\n",
        "    for i,(input_z,input_real) in enumerate(mnist_trainset):\n",
        "        \n",
        "        ## Compute generator's loss\n",
        "        with tf.GradientTape() as g_tape:\n",
        "            g_output = gen_model(input_z)\n",
        "            d_logits_fake = disc_model(g_output, training=True)\n",
        "            labels_real = tf.ones_like(d_logits_fake)\n",
        "            g_loss = loss_fn(y_true=labels_real, y_pred=d_logits_fake)\n",
        "            \n",
        "        g_grads = g_tape.gradient(g_loss, gen_model.trainable_variables)\n",
        "        g_optimizer.apply_gradients(\n",
        "            grads_and_vars=zip(g_grads, gen_model.trainable_variables))\n",
        "\n",
        "        ## Compute discriminator's loss\n",
        "        with tf.GradientTape() as d_tape:\n",
        "            d_logits_real = disc_model(input_real, training=True)\n",
        "\n",
        "            d_labels_real = tf.ones_like(d_logits_real)\n",
        "            \n",
        "            d_loss_real = loss_fn(\n",
        "                y_true=d_labels_real, y_pred=d_logits_real)\n",
        "\n",
        "            d_logits_fake = disc_model(g_output, training=True)\n",
        "            d_labels_fake = tf.zeros_like(d_logits_fake)\n",
        "\n",
        "            d_loss_fake = loss_fn(\n",
        "                y_true=d_labels_fake, y_pred=d_logits_fake)\n",
        "\n",
        "            d_loss = d_loss_real + d_loss_fake\n",
        "\n",
        "        ## Compute the gradients of d_loss\n",
        "        d_grads = d_tape.gradient(d_loss, disc_model.trainable_variables)\n",
        "        \n",
        "        ## Optimization: Apply the gradients\n",
        "        d_optimizer.apply_gradients(\n",
        "            grads_and_vars=zip(d_grads, disc_model.trainable_variables))\n",
        "                           \n",
        "        epoch_losses.append(\n",
        "            (g_loss.numpy(), d_loss.numpy(), \n",
        "             d_loss_real.numpy(), d_loss_fake.numpy()))\n",
        "        \n",
        "        d_probs_real = tf.reduce_mean(tf.sigmoid(d_logits_real))\n",
        "        d_probs_fake = tf.reduce_mean(tf.sigmoid(d_logits_fake))\n",
        "        epoch_d_vals.append((d_probs_real.numpy(), d_probs_fake.numpy()))        \n",
        "    all_losses.append(epoch_losses)\n",
        "    all_d_vals.append(epoch_d_vals)\n",
        "    print(\n",
        "        'Epoch {:03d} | ET {:.2f} min | Avg Losses >>'\n",
        "        ' G/D {:.4f}/{:.4f} [D-Real: {:.4f} D-Fake: {:.4f}]'\n",
        "        .format(\n",
        "            epoch, (time.time() - start_time)/60, \n",
        "            *list(np.mean(all_losses[-1], axis=0))))\n",
        "    epoch_samples.append(\n",
        "        create_samples(gen_model, fixed_z).numpy())"
      ],
      "metadata": {
        "colab": {
          "base_uri": "https://localhost:8080/"
        },
        "id": "z3kWAjl60g-O",
        "outputId": "66ee6fbb-1663-44d1-b61d-90560ae63f1b"
      },
      "execution_count": null,
      "outputs": [
        {
          "output_type": "stream",
          "name": "stdout",
          "text": [
            "Epoch 001 | ET 0.44 min | Avg Losses >> G/D 2.8653/0.2893 [D-Real: 0.0333 D-Fake: 0.2560]\n",
            "Epoch 002 | ET 0.88 min | Avg Losses >> G/D 5.1000/0.3465 [D-Real: 0.1136 D-Fake: 0.2329]\n",
            "Epoch 003 | ET 1.34 min | Avg Losses >> G/D 3.2881/0.6928 [D-Real: 0.3116 D-Fake: 0.3812]\n",
            "Epoch 004 | ET 1.78 min | Avg Losses >> G/D 2.0254/0.8712 [D-Real: 0.4460 D-Fake: 0.4251]\n",
            "Epoch 005 | ET 2.21 min | Avg Losses >> G/D 2.2604/0.7911 [D-Real: 0.4219 D-Fake: 0.3692]\n",
            "Epoch 006 | ET 2.64 min | Avg Losses >> G/D 1.7917/0.8944 [D-Real: 0.4979 D-Fake: 0.3965]\n",
            "Epoch 007 | ET 3.08 min | Avg Losses >> G/D 1.5364/1.0110 [D-Real: 0.5405 D-Fake: 0.4705]\n",
            "Epoch 008 | ET 3.51 min | Avg Losses >> G/D 1.3643/1.0541 [D-Real: 0.5655 D-Fake: 0.4886]\n",
            "Epoch 009 | ET 3.95 min | Avg Losses >> G/D 1.4181/1.0131 [D-Real: 0.5513 D-Fake: 0.4619]\n",
            "Epoch 010 | ET 4.63 min | Avg Losses >> G/D 1.4374/1.1151 [D-Real: 0.5796 D-Fake: 0.5354]\n",
            "Epoch 011 | ET 5.07 min | Avg Losses >> G/D 1.2390/1.1283 [D-Real: 0.6010 D-Fake: 0.5273]\n",
            "Epoch 012 | ET 5.51 min | Avg Losses >> G/D 1.2765/1.1240 [D-Real: 0.5926 D-Fake: 0.5314]\n",
            "Epoch 013 | ET 5.94 min | Avg Losses >> G/D 1.3495/1.1283 [D-Real: 0.5846 D-Fake: 0.5437]\n",
            "Epoch 014 | ET 6.38 min | Avg Losses >> G/D 1.1838/1.1640 [D-Real: 0.6079 D-Fake: 0.5560]\n",
            "Epoch 015 | ET 6.81 min | Avg Losses >> G/D 1.1694/1.1863 [D-Real: 0.6107 D-Fake: 0.5757]\n",
            "Epoch 016 | ET 7.25 min | Avg Losses >> G/D 1.1305/1.1722 [D-Real: 0.6132 D-Fake: 0.5590]\n",
            "Epoch 017 | ET 7.68 min | Avg Losses >> G/D 1.2212/1.1610 [D-Real: 0.5994 D-Fake: 0.5616]\n",
            "Epoch 018 | ET 8.13 min | Avg Losses >> G/D 1.1496/1.1928 [D-Real: 0.6156 D-Fake: 0.5772]\n",
            "Epoch 019 | ET 8.56 min | Avg Losses >> G/D 1.1032/1.1967 [D-Real: 0.6155 D-Fake: 0.5812]\n",
            "Epoch 020 | ET 8.99 min | Avg Losses >> G/D 1.1973/1.1561 [D-Real: 0.5967 D-Fake: 0.5595]\n",
            "Epoch 021 | ET 9.42 min | Avg Losses >> G/D 1.1135/1.1972 [D-Real: 0.6170 D-Fake: 0.5802]\n",
            "Epoch 022 | ET 10.10 min | Avg Losses >> G/D 1.1109/1.1787 [D-Real: 0.6077 D-Fake: 0.5710]\n",
            "Epoch 023 | ET 10.54 min | Avg Losses >> G/D 1.0944/1.2213 [D-Real: 0.6243 D-Fake: 0.5970]\n",
            "Epoch 024 | ET 10.97 min | Avg Losses >> G/D 1.0562/1.2486 [D-Real: 0.6313 D-Fake: 0.6173]\n",
            "Epoch 025 | ET 11.42 min | Avg Losses >> G/D 1.0071/1.2660 [D-Real: 0.6410 D-Fake: 0.6251]\n",
            "Epoch 026 | ET 11.85 min | Avg Losses >> G/D 1.0085/1.2598 [D-Real: 0.6391 D-Fake: 0.6207]\n",
            "Epoch 027 | ET 12.28 min | Avg Losses >> G/D 1.0735/1.2262 [D-Real: 0.6213 D-Fake: 0.6049]\n",
            "Epoch 028 | ET 12.71 min | Avg Losses >> G/D 1.0109/1.2532 [D-Real: 0.6352 D-Fake: 0.6180]\n",
            "Epoch 029 | ET 13.15 min | Avg Losses >> G/D 1.0491/1.2344 [D-Real: 0.6268 D-Fake: 0.6076]\n",
            "Epoch 030 | ET 13.58 min | Avg Losses >> G/D 1.1298/1.2123 [D-Real: 0.6140 D-Fake: 0.5983]\n",
            "Epoch 031 | ET 14.01 min | Avg Losses >> G/D 1.0481/1.2338 [D-Real: 0.6258 D-Fake: 0.6080]\n",
            "Epoch 032 | ET 14.44 min | Avg Losses >> G/D 0.9720/1.2586 [D-Real: 0.6371 D-Fake: 0.6215]\n",
            "Epoch 033 | ET 14.88 min | Avg Losses >> G/D 0.9834/1.2628 [D-Real: 0.6381 D-Fake: 0.6247]\n",
            "Epoch 034 | ET 15.31 min | Avg Losses >> G/D 1.1107/1.2386 [D-Real: 0.6216 D-Fake: 0.6171]\n",
            "Epoch 035 | ET 15.73 min | Avg Losses >> G/D 0.9892/1.2674 [D-Real: 0.6405 D-Fake: 0.6269]\n",
            "Epoch 036 | ET 16.16 min | Avg Losses >> G/D 0.8894/1.3143 [D-Real: 0.6621 D-Fake: 0.6522]\n",
            "Epoch 037 | ET 16.58 min | Avg Losses >> G/D 1.0606/1.2743 [D-Real: 0.6354 D-Fake: 0.6390]\n",
            "Epoch 038 | ET 17.01 min | Avg Losses >> G/D 1.0413/1.2612 [D-Real: 0.6337 D-Fake: 0.6275]\n",
            "Epoch 039 | ET 17.43 min | Avg Losses >> G/D 0.9157/1.2886 [D-Real: 0.6518 D-Fake: 0.6368]\n",
            "Epoch 040 | ET 17.85 min | Avg Losses >> G/D 0.9600/1.2805 [D-Real: 0.6424 D-Fake: 0.6381]\n",
            "Epoch 041 | ET 18.54 min | Avg Losses >> G/D 1.0006/1.2767 [D-Real: 0.6437 D-Fake: 0.6330]\n",
            "Epoch 042 | ET 18.96 min | Avg Losses >> G/D 0.9485/1.2894 [D-Real: 0.6479 D-Fake: 0.6415]\n",
            "Epoch 043 | ET 19.39 min | Avg Losses >> G/D 0.9388/1.3045 [D-Real: 0.6528 D-Fake: 0.6518]\n",
            "Epoch 044 | ET 19.81 min | Avg Losses >> G/D 0.9625/1.2920 [D-Real: 0.6498 D-Fake: 0.6422]\n",
            "Epoch 045 | ET 20.23 min | Avg Losses >> G/D 0.9542/1.2911 [D-Real: 0.6507 D-Fake: 0.6404]\n",
            "Epoch 046 | ET 20.65 min | Avg Losses >> G/D 0.9760/1.2935 [D-Real: 0.6514 D-Fake: 0.6421]\n",
            "Epoch 047 | ET 21.07 min | Avg Losses >> G/D 0.9432/1.3026 [D-Real: 0.6576 D-Fake: 0.6450]\n",
            "Epoch 048 | ET 21.49 min | Avg Losses >> G/D 0.9375/1.2895 [D-Real: 0.6504 D-Fake: 0.6391]\n",
            "Epoch 049 | ET 21.93 min | Avg Losses >> G/D 0.9694/1.2828 [D-Real: 0.6455 D-Fake: 0.6372]\n",
            "Epoch 050 | ET 22.35 min | Avg Losses >> G/D 0.9650/1.2873 [D-Real: 0.6467 D-Fake: 0.6407]\n",
            "Epoch 051 | ET 22.78 min | Avg Losses >> G/D 0.9635/1.2973 [D-Real: 0.6522 D-Fake: 0.6451]\n",
            "Epoch 052 | ET 23.20 min | Avg Losses >> G/D 0.9688/1.2833 [D-Real: 0.6459 D-Fake: 0.6374]\n",
            "Epoch 053 | ET 23.62 min | Avg Losses >> G/D 0.9388/1.2958 [D-Real: 0.6514 D-Fake: 0.6444]\n",
            "Epoch 054 | ET 24.04 min | Avg Losses >> G/D 0.9623/1.2940 [D-Real: 0.6486 D-Fake: 0.6454]\n",
            "Epoch 055 | ET 24.46 min | Avg Losses >> G/D 0.9187/1.3021 [D-Real: 0.6538 D-Fake: 0.6483]\n",
            "Epoch 056 | ET 24.88 min | Avg Losses >> G/D 0.9198/1.3057 [D-Real: 0.6559 D-Fake: 0.6497]\n",
            "Epoch 057 | ET 25.30 min | Avg Losses >> G/D 0.9316/1.3057 [D-Real: 0.6548 D-Fake: 0.6508]\n",
            "Epoch 058 | ET 25.74 min | Avg Losses >> G/D 0.9603/1.2959 [D-Real: 0.6487 D-Fake: 0.6472]\n",
            "Epoch 059 | ET 26.17 min | Avg Losses >> G/D 0.9133/1.3099 [D-Real: 0.6580 D-Fake: 0.6519]\n",
            "Epoch 060 | ET 26.59 min | Avg Losses >> G/D 0.9505/1.2974 [D-Real: 0.6501 D-Fake: 0.6472]\n",
            "Epoch 061 | ET 27.02 min | Avg Losses >> G/D 0.9197/1.3120 [D-Real: 0.6575 D-Fake: 0.6545]\n",
            "Epoch 062 | ET 27.44 min | Avg Losses >> G/D 0.9102/1.3239 [D-Real: 0.6619 D-Fake: 0.6620]\n",
            "Epoch 063 | ET 27.87 min | Avg Losses >> G/D 1.0017/1.2939 [D-Real: 0.6478 D-Fake: 0.6461]\n",
            "Epoch 064 | ET 28.29 min | Avg Losses >> G/D 0.9289/1.3018 [D-Real: 0.6536 D-Fake: 0.6481]\n",
            "Epoch 065 | ET 28.71 min | Avg Losses >> G/D 0.8987/1.3197 [D-Real: 0.6626 D-Fake: 0.6570]\n",
            "Epoch 066 | ET 29.14 min | Avg Losses >> G/D 0.9677/1.2995 [D-Real: 0.6497 D-Fake: 0.6498]\n",
            "Epoch 067 | ET 29.56 min | Avg Losses >> G/D 0.9329/1.2989 [D-Real: 0.6545 D-Fake: 0.6444]\n",
            "Epoch 068 | ET 29.98 min | Avg Losses >> G/D 0.9088/1.3163 [D-Real: 0.6589 D-Fake: 0.6574]\n",
            "Epoch 069 | ET 30.39 min | Avg Losses >> G/D 0.9451/1.3069 [D-Real: 0.6552 D-Fake: 0.6517]\n",
            "Epoch 070 | ET 30.82 min | Avg Losses >> G/D 0.9212/1.3032 [D-Real: 0.6534 D-Fake: 0.6498]\n",
            "Epoch 071 | ET 31.23 min | Avg Losses >> G/D 0.9041/1.3177 [D-Real: 0.6629 D-Fake: 0.6548]\n",
            "Epoch 072 | ET 31.66 min | Avg Losses >> G/D 0.9277/1.3111 [D-Real: 0.6563 D-Fake: 0.6548]\n",
            "Epoch 073 | ET 32.07 min | Avg Losses >> G/D 0.9151/1.3074 [D-Real: 0.6563 D-Fake: 0.6511]\n",
            "Epoch 074 | ET 32.51 min | Avg Losses >> G/D 0.9474/1.3035 [D-Real: 0.6546 D-Fake: 0.6489]\n",
            "Epoch 075 | ET 32.94 min | Avg Losses >> G/D 0.9348/1.3148 [D-Real: 0.6589 D-Fake: 0.6559]\n",
            "Epoch 076 | ET 33.36 min | Avg Losses >> G/D 0.8973/1.3146 [D-Real: 0.6578 D-Fake: 0.6568]\n",
            "Epoch 077 | ET 33.78 min | Avg Losses >> G/D 0.9109/1.3093 [D-Real: 0.6564 D-Fake: 0.6529]\n",
            "Epoch 078 | ET 34.21 min | Avg Losses >> G/D 0.9090/1.3189 [D-Real: 0.6628 D-Fake: 0.6560]\n",
            "Epoch 079 | ET 34.64 min | Avg Losses >> G/D 0.9578/1.3126 [D-Real: 0.6565 D-Fake: 0.6561]\n",
            "Epoch 080 | ET 35.06 min | Avg Losses >> G/D 0.9010/1.3135 [D-Real: 0.6623 D-Fake: 0.6513]\n",
            "Epoch 081 | ET 35.48 min | Avg Losses >> G/D 0.9147/1.3191 [D-Real: 0.6608 D-Fake: 0.6583]\n",
            "Epoch 082 | ET 35.91 min | Avg Losses >> G/D 0.9227/1.3120 [D-Real: 0.6591 D-Fake: 0.6529]\n",
            "Epoch 083 | ET 36.33 min | Avg Losses >> G/D 0.8980/1.3206 [D-Real: 0.6633 D-Fake: 0.6574]\n",
            "Epoch 084 | ET 36.75 min | Avg Losses >> G/D 0.9380/1.3164 [D-Real: 0.6576 D-Fake: 0.6588]\n",
            "Epoch 085 | ET 37.17 min | Avg Losses >> G/D 0.8953/1.3182 [D-Real: 0.6607 D-Fake: 0.6574]\n",
            "Epoch 086 | ET 37.60 min | Avg Losses >> G/D 0.9763/1.2952 [D-Real: 0.6500 D-Fake: 0.6452]\n",
            "Epoch 087 | ET 38.02 min | Avg Losses >> G/D 0.9194/1.3251 [D-Real: 0.6639 D-Fake: 0.6612]\n",
            "Epoch 088 | ET 38.43 min | Avg Losses >> G/D 0.9168/1.3113 [D-Real: 0.6571 D-Fake: 0.6541]\n",
            "Epoch 089 | ET 38.85 min | Avg Losses >> G/D 0.9140/1.3072 [D-Real: 0.6557 D-Fake: 0.6515]\n",
            "Epoch 090 | ET 39.27 min | Avg Losses >> G/D 0.8873/1.3320 [D-Real: 0.6678 D-Fake: 0.6642]\n",
            "Epoch 091 | ET 39.70 min | Avg Losses >> G/D 0.9476/1.3133 [D-Real: 0.6600 D-Fake: 0.6533]\n",
            "Epoch 092 | ET 40.13 min | Avg Losses >> G/D 0.8744/1.3245 [D-Real: 0.6660 D-Fake: 0.6585]\n",
            "Epoch 093 | ET 40.55 min | Avg Losses >> G/D 0.9182/1.3214 [D-Real: 0.6638 D-Fake: 0.6576]\n",
            "Epoch 094 | ET 40.97 min | Avg Losses >> G/D 0.9305/1.3136 [D-Real: 0.6581 D-Fake: 0.6555]\n",
            "Epoch 095 | ET 41.40 min | Avg Losses >> G/D 0.8852/1.3224 [D-Real: 0.6649 D-Fake: 0.6575]\n",
            "Epoch 096 | ET 41.83 min | Avg Losses >> G/D 0.9349/1.3102 [D-Real: 0.6586 D-Fake: 0.6516]\n",
            "Epoch 097 | ET 42.25 min | Avg Losses >> G/D 0.9315/1.3062 [D-Real: 0.6527 D-Fake: 0.6535]\n",
            "Epoch 098 | ET 42.68 min | Avg Losses >> G/D 0.8897/1.3211 [D-Real: 0.6642 D-Fake: 0.6569]\n",
            "Epoch 099 | ET 43.12 min | Avg Losses >> G/D 0.9269/1.3108 [D-Real: 0.6550 D-Fake: 0.6558]\n",
            "Epoch 100 | ET 44.49 min | Avg Losses >> G/D 0.8761/1.3294 [D-Real: 0.6671 D-Fake: 0.6624]\n"
          ]
        }
      ]
    },
    {
      "cell_type": "code",
      "source": [
        "import itertools\n",
        "\n",
        "fig = plt.figure(figsize=(16, 6))\n",
        "\n",
        "# plotting the losses\n",
        "ax = fig.add_subplot(1, 2, 1)\n",
        "g_losses = [item[0] for item in itertools.chain(*all_losses)]\n",
        "d_losses = [item[1]/2.0 for item in itertools.chain(*all_losses)]\n",
        "\n",
        "plt.plot(g_losses, label='Generator loss', alpha=0.95)\n",
        "plt.plot(d_losses, label='Discriminator loss', alpha=0.95)\n",
        "plt.legend(fontsize=20)\n",
        "ax.set_xlabel('Iteration', size=15)\n",
        "ax.set_ylabel('Loss', size=15)\n",
        "\n",
        "epochs = np.arange(1, 101)\n",
        "epoch2iter = lambda e: e*len(all_losses[-1])\n",
        "epoch_ticks = [1, 20, 40, 60, 80, 100]\n",
        "newpos = [epoch2iter(e) for e in epoch_ticks]\n",
        "ax2 = ax.twiny()\n",
        "ax2.set_xticks(newpos)\n",
        "ax2.set_xticklabels(epoch_ticks)\n",
        "ax2.xaxis.set_ticks_position('bottom')\n",
        "ax2.xaxis.set_label_position('bottom')\n",
        "ax2.spines['bottom'].set_position(('outward', 60))\n",
        "ax2.set_xlabel('Epoch', size=15)\n",
        "ax2.set_xlim(ax.get_xlim())\n",
        "ax.tick_params(axis='both', which='major', labelsize=15)\n",
        "ax2.tick_params(axis='both', which='major', labelsize=15)\n",
        "\n",
        "# plotting the outputs of the discriminator\n",
        "ax = fig.add_subplot(1, 2, 2)\n",
        "d_vals_real = [item[0] for item in itertools.chain(*all_d_vals)]\n",
        "d_vals_fake = [item[1] for item in itertools.chain(*all_d_vals)]\n",
        "plt.plot(d_vals_real, alpha=0.75, label=r'Real: $D(\\mathbf{x})$')\n",
        "plt.plot(d_vals_fake, alpha=0.75, label=r'Fake: $D(G(\\mathbf{z}))$')\n",
        "plt.legend(fontsize=20)\n",
        "ax.set_xlabel('Iteration', size=15)\n",
        "ax.set_ylabel('Discriminator output', size=15)\n",
        "\n",
        "ax2 = ax.twiny()\n",
        "ax2.set_xticks(newpos)\n",
        "ax2.set_xticklabels(epoch_ticks)\n",
        "ax2.xaxis.set_ticks_position('bottom')\n",
        "ax2.xaxis.set_label_position('bottom')\n",
        "ax2.spines['bottom'].set_position(('outward', 60))\n",
        "ax2.set_xlabel('Epoch', size=15)\n",
        "ax2.set_xlim(ax.get_xlim())\n",
        "ax.tick_params(axis='both', which='major', labelsize=15)\n",
        "ax2.tick_params(axis='both', which='major', labelsize=15)\n",
        "plt.show()"
      ],
      "metadata": {
        "colab": {
          "base_uri": "https://localhost:8080/",
          "height": 337
        },
        "id": "6cwBT-L9-uD6",
        "outputId": "62375059-0962-4966-8551-97d213905098"
      },
      "execution_count": null,
      "outputs": [
        {
          "output_type": "display_data",
          "data": {
            "text/plain": [
              "<Figure size 1152x432 with 4 Axes>"
            ],
            "image/png": "[encoded data removed]"
          },
          "metadata": {
            "needs_background": "light"
          }
        }
      ]
    },
    {
      "cell_type": "code",
      "source": [
        "selected_epochs = [1, 2, 4, 10, 50, 100]\n",
        "fig = plt.figure(figsize=(10, 14))\n",
        "for i,e in enumerate(selected_epochs):\n",
        "  for j in range(5):\n",
        "    ax = fig.add_subplot(6, 5, i*5+j+1)\n",
        "    ax.set_xticks([])\n",
        "    ax.set_yticks([])\n",
        "    if j == 0:\n",
        "      ax.text(\n",
        "        -0.06, 0.5, 'Epoch {}'.format(e),\n",
        "        rotation=90, size=18, color='red',\n",
        "        horizontalalignment='right',\n",
        "        verticalalignment='center',\n",
        "        transform=ax.transAxes)\n",
        "    image = epoch_samples[e-1][j]\n",
        "    ax.imshow(image, cmap='gray_r')\n",
        "\n",
        "plt.show()"
      ],
      "metadata": {
        "colab": {
          "base_uri": "https://localhost:8080/",
          "height": 783
        },
        "id": "zYXmI9DfBokT",
        "outputId": "977cece0-5ca7-45e2-c7d9-55a98537e6d7"
      },
      "execution_count": null,
      "outputs": [
        {
          "output_type": "display_data",
          "data": {
            "text/plain": [
              "<Figure size 720x1008 with 30 Axes>"
            ],
            "image/png": "[encoded data removed]"
          },
          "metadata": {}
        }
      ]
    }
  ]
}