{
  "nbformat": 4,
  "nbformat_minor": 0,
  "metadata": {
    "colab": {
      "provenance": []
    },
    "kernelspec": {
      "name": "python3",
      "display_name": "Python 3"
    },
    "language_info": {
      "name": "python"
    },
    "accelerator": "GPU",
    "gpuClass": "standard"
  },
  "cells": [
    {
      "cell_type": "code",
      "execution_count": 20,
      "metadata": {
        "id": "fPvN0bdxxuuS"
      },
      "outputs": [],
      "source": [
        "import tensorflow as tf"
      ]
    },
    {
      "cell_type": "code",
      "source": [
        "if tf.test.is_gpu_available():\n",
        "  device_name = tf.test.gpu_device_name()\n",
        "else:\n",
        "  device_name = '/CPU:0'\n",
        "print(device_name)"
      ],
      "metadata": {
        "colab": {
          "base_uri": "https://localhost:8080/"
        },
        "id": "CN8l_xWiIglQ",
        "outputId": "258a4a31-f23a-478f-dd01-855a25a1715f"
      },
      "execution_count": 29,
      "outputs": [
        {
          "output_type": "stream",
          "name": "stdout",
          "text": [
            "/device:GPU:0\n"
          ]
        }
      ]
    },
    {
      "cell_type": "code",
      "source": [
        "print('GPU avaialbale: ', tf.test.is_gpu_available())"
      ],
      "metadata": {
        "colab": {
          "base_uri": "https://localhost:8080/"
        },
        "id": "dIjFV1jwx0FQ",
        "outputId": "6d795683-c7fd-46c6-c082-31bbfb37b384"
      },
      "execution_count": 21,
      "outputs": [
        {
          "output_type": "stream",
          "name": "stdout",
          "text": [
            "GPU avaialbale:  True\n"
          ]
        }
      ]
    },
    {
      "cell_type": "code",
      "source": [
        "import tensorflow as tf\n",
        "import tensorflow_datasets as tfds\n",
        "import numpy as np\n",
        "import matplotlib.pyplot as plt"
      ],
      "metadata": {
        "id": "Z97j3VDHx7F8"
      },
      "execution_count": 22,
      "outputs": []
    },
    {
      "cell_type": "markdown",
      "source": [
        "**Adding transpose convolution layers in GENERATOR**"
      ],
      "metadata": {
        "id": "Es_Vuv080KRf"
      }
    },
    {
      "cell_type": "code",
      "source": [
        "def make_dcgan_generator(\n",
        "        z_size=20, \n",
        "        output_size=(28, 28, 1),\n",
        "        n_filters=128, \n",
        "        n_blocks=2):\n",
        "    size_factor = 2**n_blocks\n",
        "    hidden_size = (\n",
        "        output_size[0]//size_factor, \n",
        "        output_size[1]//size_factor\n",
        "    )\n",
        "    \n",
        "    model = tf.keras.Sequential([\n",
        "        tf.keras.layers.Input(shape=(z_size,)),\n",
        "        \n",
        "        tf.keras.layers.Dense(\n",
        "            units=n_filters*np.prod(hidden_size), \n",
        "            use_bias=False),\n",
        "        tf.keras.layers.BatchNormalization(),\n",
        "        tf.keras.layers.LeakyReLU(),\n",
        "        tf.keras.layers.Reshape(\n",
        "            (hidden_size[0], hidden_size[1], n_filters)),\n",
        "    \n",
        "        tf.keras.layers.Conv2DTranspose(\n",
        "            filters=n_filters, kernel_size=(5, 5), strides=(1, 1),\n",
        "            padding='same', use_bias=False),\n",
        "        tf.keras.layers.BatchNormalization(),\n",
        "        tf.keras.layers.LeakyReLU()\n",
        "    ])\n",
        "        \n",
        "    nf = n_filters\n",
        "    for i in range(n_blocks):\n",
        "        nf = nf // 2\n",
        "        model.add(\n",
        "            tf.keras.layers.Conv2DTranspose(\n",
        "                filters=nf, kernel_size=(5, 5), strides=(2, 2),\n",
        "                padding='same', use_bias=False))\n",
        "        model.add(tf.keras.layers.BatchNormalization())\n",
        "        model.add(tf.keras.layers.LeakyReLU())\n",
        "                \n",
        "    model.add(\n",
        "        tf.keras.layers.Conv2DTranspose(\n",
        "            filters=output_size[2], kernel_size=(5, 5), \n",
        "            strides=(1, 1), padding='same', use_bias=False, \n",
        "            activation='tanh'))\n",
        "        \n",
        "    return model\n",
        "\n",
        "def make_dcgan_discriminator(\n",
        "        input_size=(28, 28, 1),\n",
        "        n_filters=64, \n",
        "        n_blocks=2):\n",
        "    model = tf.keras.Sequential([\n",
        "        tf.keras.layers.Input(shape=input_size),\n",
        "        tf.keras.layers.Conv2D(\n",
        "            filters=n_filters, kernel_size=5, \n",
        "            strides=(1, 1), padding='same'),\n",
        "        tf.keras.layers.BatchNormalization(),\n",
        "        tf.keras.layers.LeakyReLU()\n",
        "    ])\n",
        "    \n",
        "    nf = n_filters\n",
        "    for i in range(n_blocks):\n",
        "        nf = nf*2\n",
        "        model.add(\n",
        "            tf.keras.layers.Conv2D(\n",
        "                filters=nf, kernel_size=(5, 5), \n",
        "                strides=(2, 2),padding='same'))\n",
        "        model.add(tf.keras.layers.BatchNormalization())\n",
        "        model.add(tf.keras.layers.LeakyReLU())\n",
        "        model.add(tf.keras.layers.Dropout(0.3))\n",
        "        \n",
        "    model.add(tf.keras.layers.Conv2D(\n",
        "            filters=1, kernel_size=(7, 7), padding='valid'))\n",
        "    \n",
        "    model.add(tf.keras.layers.Reshape((1,)))\n",
        "    \n",
        "    return model"
      ],
      "metadata": {
        "id": "a8RB5cJ5x-1x"
      },
      "execution_count": 23,
      "outputs": []
    },
    {
      "cell_type": "code",
      "source": [
        "image_size = (28, 28)\n",
        "z_size = 20\n",
        "mode_z = 'uniform'"
      ],
      "metadata": {
        "id": "5M7NFi_w70g8"
      },
      "execution_count": 32,
      "outputs": []
    },
    {
      "cell_type": "code",
      "source": [
        "mnist_bldr = tfds.builder('mnist')\n",
        "mnist_bldr.download_and_prepare()\n",
        "mnist = mnist_bldr.as_dataset(shuffle_files=False)\n",
        "\n",
        "\n",
        "def preprocess(ex, mode='uniform'):\n",
        "  image = ex['image']\n",
        "  image=  tf.image.convert_image_dtype(image, tf.float32)\n",
        "\n",
        "  image = image*2.0 - 1.0\n",
        "  if mode == 'uniform':\n",
        "    input_z = tf.random.uniform(shape=(z_size, ), minval=-1.0, maxval=1.0)\n",
        "  elif mode == 'normal':\n",
        "    input_z = tf.random.normal(shape=(z_size, ))\n",
        "  \n",
        "  return input_z, image"
      ],
      "metadata": {
        "id": "uLdXAfng1yEv"
      },
      "execution_count": 25,
      "outputs": []
    },
    {
      "cell_type": "code",
      "source": [
        "gen_model = make_dcgan_generator()\n",
        "gen_model.summary()"
      ],
      "metadata": {
        "colab": {
          "base_uri": "https://localhost:8080/"
        },
        "id": "HV3BfNgP71qJ",
        "outputId": "14b67d82-d59a-4c9e-c3a5-a2b2f226814b"
      },
      "execution_count": 26,
      "outputs": [
        {
          "output_type": "stream",
          "name": "stdout",
          "text": [
            "Model: \"sequential_5\"\n",
            "_________________________________________________________________\n",
            " Layer (type)                Output Shape              Param #   \n",
            "=================================================================\n",
            " dense_3 (Dense)             (None, 6272)              125440    \n",
            "                                                                 \n",
            " batch_normalization_16 (Bat  (None, 6272)             25088     \n",
            " chNormalization)                                                \n",
            "                                                                 \n",
            " leaky_re_lu_16 (LeakyReLU)  (None, 6272)              0         \n",
            "                                                                 \n",
            " reshape_4 (Reshape)         (None, 7, 7, 128)         0         \n",
            "                                                                 \n",
            " conv2d_transpose_12 (Conv2D  (None, 7, 7, 128)        409600    \n",
            " Transpose)                                                      \n",
            "                                                                 \n",
            " batch_normalization_17 (Bat  (None, 7, 7, 128)        512       \n",
            " chNormalization)                                                \n",
            "                                                                 \n",
            " leaky_re_lu_17 (LeakyReLU)  (None, 7, 7, 128)         0         \n",
            "                                                                 \n",
            " conv2d_transpose_13 (Conv2D  (None, 14, 14, 64)       204800    \n",
            " Transpose)                                                      \n",
            "                                                                 \n",
            " batch_normalization_18 (Bat  (None, 14, 14, 64)       256       \n",
            " chNormalization)                                                \n",
            "                                                                 \n",
            " leaky_re_lu_18 (LeakyReLU)  (None, 14, 14, 64)        0         \n",
            "                                                                 \n",
            " conv2d_transpose_14 (Conv2D  (None, 28, 28, 32)       51200     \n",
            " Transpose)                                                      \n",
            "                                                                 \n",
            " batch_normalization_19 (Bat  (None, 28, 28, 32)       128       \n",
            " chNormalization)                                                \n",
            "                                                                 \n",
            " leaky_re_lu_19 (LeakyReLU)  (None, 28, 28, 32)        0         \n",
            "                                                                 \n",
            " conv2d_transpose_15 (Conv2D  (None, 28, 28, 1)        800       \n",
            " Transpose)                                                      \n",
            "                                                                 \n",
            "=================================================================\n",
            "Total params: 817,824\n",
            "Trainable params: 804,832\n",
            "Non-trainable params: 12,992\n",
            "_________________________________________________________________\n"
          ]
        }
      ]
    },
    {
      "cell_type": "code",
      "source": [
        "disc_model = make_dcgan_discriminator()\n",
        "disc_model.summary()"
      ],
      "metadata": {
        "colab": {
          "base_uri": "https://localhost:8080/"
        },
        "id": "_NfWaBIV8H_A",
        "outputId": "caf72f5c-c677-4553-cde5-9f3990933aad"
      },
      "execution_count": 27,
      "outputs": [
        {
          "output_type": "stream",
          "name": "stdout",
          "text": [
            "Model: \"sequential_6\"\n",
            "_________________________________________________________________\n",
            " Layer (type)                Output Shape              Param #   \n",
            "=================================================================\n",
            " conv2d_7 (Conv2D)           (None, 28, 28, 64)        1664      \n",
            "                                                                 \n",
            " batch_normalization_20 (Bat  (None, 28, 28, 64)       256       \n",
            " chNormalization)                                                \n",
            "                                                                 \n",
            " leaky_re_lu_20 (LeakyReLU)  (None, 28, 28, 64)        0         \n",
            "                                                                 \n",
            " conv2d_8 (Conv2D)           (None, 14, 14, 128)       204928    \n",
            "                                                                 \n",
            " batch_normalization_21 (Bat  (None, 14, 14, 128)      512       \n",
            " chNormalization)                                                \n",
            "                                                                 \n",
            " leaky_re_lu_21 (LeakyReLU)  (None, 14, 14, 128)       0         \n",
            "                                                                 \n",
            " dropout_2 (Dropout)         (None, 14, 14, 128)       0         \n",
            "                                                                 \n",
            " conv2d_9 (Conv2D)           (None, 7, 7, 256)         819456    \n",
            "                                                                 \n",
            " batch_normalization_22 (Bat  (None, 7, 7, 256)        1024      \n",
            " chNormalization)                                                \n",
            "                                                                 \n",
            " leaky_re_lu_22 (LeakyReLU)  (None, 7, 7, 256)         0         \n",
            "                                                                 \n",
            " dropout_3 (Dropout)         (None, 7, 7, 256)         0         \n",
            "                                                                 \n",
            " conv2d_10 (Conv2D)          (None, 1, 1, 1)           12545     \n",
            "                                                                 \n",
            " reshape_5 (Reshape)         (None, 1)                 0         \n",
            "                                                                 \n",
            "=================================================================\n",
            "Total params: 1,040,385\n",
            "Trainable params: 1,039,489\n",
            "Non-trainable params: 896\n",
            "_________________________________________________________________\n"
          ]
        }
      ]
    },
    {
      "cell_type": "markdown",
      "source": [
        "**Implementing WGAN-GP to train DCGAN model**"
      ],
      "metadata": {
        "id": "PXNKgoFRHmfb"
      }
    },
    {
      "cell_type": "code",
      "source": [
        "num_epochs = 100\n",
        "batch_size = 128\n",
        "lambda_gp = 10.0\n",
        "\n",
        "tf.random.set_seed(1)\n",
        "np.random.seed(1)\n",
        "\n",
        "# set-up the dataset\n",
        "mnist_trainset = mnist['train']\n",
        "mnist_trainset = mnist_trainset.map(preprocess)\n",
        "\n",
        "mnist_trainset = mnist_trainset.shuffle(10000).batch(batch_size, drop_remainder=True)\n",
        "\n",
        "# set-up the model\n",
        "with tf.device(device_name):\n",
        "  gen_model = make_dcgan_generator()\n",
        "  gen_model.build(input_shape=(None, z_size))\n",
        "\n",
        "  disc_model = make_dcgan_discriminator()\n",
        "  disc_model.build(input_shape=(None, np.prod(image_size)))"
      ],
      "metadata": {
        "id": "XYOTz8Q6FcCK"
      },
      "execution_count": 31,
      "outputs": []
    },
    {
      "cell_type": "code",
      "source": [
        "import time\n",
        "\n",
        "\n",
        "## optimizers:\n",
        "g_optimizer = tf.keras.optimizers.Adam(0.0002)\n",
        "d_optimizer = tf.keras.optimizers.Adam(0.0002)\n",
        "\n",
        "if mode_z == 'uniform':\n",
        "    fixed_z = tf.random.uniform(\n",
        "        shape=(batch_size, z_size),\n",
        "        minval=-1, maxval=1)\n",
        "elif mode_z == 'normal':\n",
        "    fixed_z = tf.random.normal(\n",
        "        shape=(batch_size, z_size))\n",
        "\n",
        "def create_samples(g_model, input_z):\n",
        "    g_output = g_model(input_z, training=False)\n",
        "    images = tf.reshape(g_output, (batch_size, *image_size))    \n",
        "    return (images+1)/2.0\n",
        "\n",
        "all_losses = []\n",
        "epoch_samples = []\n",
        "\n",
        "start_time = time.time()\n",
        "\n",
        "for epoch in range(1, num_epochs+1):\n",
        "    epoch_losses = []\n",
        "    for i,(input_z,input_real) in enumerate(mnist_trainset):\n",
        "        \n",
        "        ## Compute discriminator's loss and gradients:\n",
        "        with tf.GradientTape() as d_tape, tf.GradientTape() as g_tape:\n",
        "            g_output = gen_model(input_z, training=True)\n",
        "            \n",
        "            d_critics_real = disc_model(input_real, training=True)\n",
        "            d_critics_fake = disc_model(g_output, training=True)\n",
        "\n",
        "            ## Compute generator's loss:\n",
        "            g_loss = -tf.math.reduce_mean(d_critics_fake)\n",
        "\n",
        "            ## Compute discriminator's losses\n",
        "            d_loss_real = -tf.math.reduce_mean(d_critics_real)\n",
        "            d_loss_fake =  tf.math.reduce_mean(d_critics_fake)\n",
        "            d_loss = d_loss_real + d_loss_fake\n",
        "\n",
        "            ## Gradient penalty:\n",
        "            with tf.GradientTape() as gp_tape:\n",
        "                alpha = tf.random.uniform(\n",
        "                    shape=[d_critics_real.shape[0], 1, 1, 1], \n",
        "                    minval=0.0, maxval=1.0)\n",
        "                interpolated = (\n",
        "                    alpha*input_real + (1-alpha)*g_output)\n",
        "                gp_tape.watch(interpolated)\n",
        "                d_critics_intp = disc_model(interpolated)\n",
        "            \n",
        "            grads_intp = gp_tape.gradient(\n",
        "                d_critics_intp, [interpolated,])[0]\n",
        "            grads_intp_l2 = tf.sqrt(\n",
        "                tf.reduce_sum(tf.square(grads_intp), axis=[1, 2, 3]))\n",
        "            grad_penalty = tf.reduce_mean(tf.square(grads_intp_l2 - 1.0))\n",
        "        \n",
        "            d_loss = d_loss + lambda_gp*grad_penalty\n",
        "        \n",
        "        ## Optimization: Compute the gradients apply them\n",
        "        d_grads = d_tape.gradient(d_loss, disc_model.trainable_variables)\n",
        "        d_optimizer.apply_gradients(\n",
        "            grads_and_vars=zip(d_grads, disc_model.trainable_variables))\n",
        "        \n",
        "        g_grads = g_tape.gradient(g_loss, gen_model.trainable_variables)\n",
        "        g_optimizer.apply_gradients(\n",
        "            grads_and_vars=zip(g_grads, gen_model.trainable_variables))\n",
        "\n",
        "        epoch_losses.append(\n",
        "            (g_loss.numpy(), d_loss.numpy(), \n",
        "             d_loss_real.numpy(), d_loss_fake.numpy()))\n",
        "                    \n",
        "    all_losses.append(epoch_losses)\n",
        "    \n",
        "    print('Epoch {:-3d} | ET {:.2f} min | Avg Losses >>'\n",
        "          ' G/D {:6.2f}/{:6.2f} [D-Real: {:6.2f} D-Fake: {:6.2f}]'\n",
        "          .format(epoch, (time.time() - start_time)/60, \n",
        "                  *list(np.mean(all_losses[-1], axis=0)))\n",
        "    )\n",
        "    \n",
        "    epoch_samples.append(\n",
        "        create_samples(gen_model, fixed_z).numpy()\n",
        "    )"
      ],
      "metadata": {
        "colab": {
          "base_uri": "https://localhost:8080/"
        },
        "id": "gRbVwY5YOLkc",
        "outputId": "710dd3ff-b25f-449a-8e35-ba92c6281909"
      },
      "execution_count": 35,
      "outputs": [
        {
          "output_type": "stream",
          "name": "stdout",
          "text": [
            "Epoch   1 | ET 1.64 min | Avg Losses >> G/D -2644.53/988.48 [D-Real: -3286.53 D-Fake: 2644.53]\n",
            "Epoch   2 | ET 3.27 min | Avg Losses >> G/D -2287.67/306.67 [D-Real: -2412.17 D-Fake: 2287.67]\n",
            "Epoch   3 | ET 4.90 min | Avg Losses >> G/D -2471.51/ 53.90 [D-Real: -2589.85 D-Fake: 2471.51]\n",
            "Epoch   4 | ET 6.53 min | Avg Losses >> G/D -2620.36/  2.13 [D-Real: -2719.01 D-Fake: 2620.36]\n",
            "Epoch   5 | ET 8.16 min | Avg Losses >> G/D -1854.05/3632.80 [D-Real: -1966.83 D-Fake: 1854.05]\n",
            "Epoch   6 | ET 9.79 min | Avg Losses >> G/D -1452.87/264.14 [D-Real: -1468.52 D-Fake: 1452.87]\n",
            "Epoch   7 | ET 12.15 min | Avg Losses >> G/D -1607.13/ 87.87 [D-Real: -1629.87 D-Fake: 1607.13]\n",
            "Epoch   8 | ET 13.78 min | Avg Losses >> G/D -1740.76/ 13.57 [D-Real: -1766.22 D-Fake: 1740.76]\n",
            "Epoch   9 | ET 15.41 min | Avg Losses >> G/D -1653.11/ 26.12 [D-Real: -1681.21 D-Fake: 1653.11]\n",
            "Epoch  10 | ET 17.04 min | Avg Losses >> G/D -1744.85/ 81.11 [D-Real: -1781.45 D-Fake: 1744.85]\n",
            "Epoch  11 | ET 18.67 min | Avg Losses >> G/D -1637.14/ 29.43 [D-Real: -1666.59 D-Fake: 1637.14]\n",
            "Epoch  12 | ET 20.29 min | Avg Losses >> G/D -1900.53/  4.01 [D-Real: -1939.60 D-Fake: 1900.53]\n",
            "Epoch  13 | ET 21.92 min | Avg Losses >> G/D -1471.22/2766.37 [D-Real: -1512.23 D-Fake: 1471.22]\n",
            "Epoch  14 | ET 23.55 min | Avg Losses >> G/D -864.21/686.13 [D-Real: -928.08 D-Fake: 864.21]\n",
            "Epoch  15 | ET 25.17 min | Avg Losses >> G/D -974.93/ 90.26 [D-Real: -992.79 D-Fake: 974.93]\n",
            "Epoch  16 | ET 26.79 min | Avg Losses >> G/D -923.30/ 95.59 [D-Real: -936.27 D-Fake: 923.30]\n",
            "Epoch  17 | ET 28.42 min | Avg Losses >> G/D -911.42/154.98 [D-Real: -926.37 D-Fake: 911.42]\n",
            "Epoch  18 | ET 30.04 min | Avg Losses >> G/D -956.25/  1.32 [D-Real: -988.93 D-Fake: 956.25]\n",
            "Epoch  19 | ET 31.67 min | Avg Losses >> G/D -863.60/301.88 [D-Real: -897.75 D-Fake: 863.60]\n",
            "Epoch  20 | ET 33.29 min | Avg Losses >> G/D -862.74/ 12.72 [D-Real: -898.96 D-Fake: 862.74]\n",
            "Epoch  21 | ET 34.91 min | Avg Losses >> G/D -1064.89/ 11.73 [D-Real: -1110.11 D-Fake: 1064.89]\n",
            "Epoch  22 | ET 36.54 min | Avg Losses >> G/D -958.58/-14.85 [D-Real: -1004.43 D-Fake: 958.58]\n",
            "Epoch  23 | ET 38.16 min | Avg Losses >> G/D -758.78/5405.36 [D-Real: -761.42 D-Fake: 758.78]\n",
            "Epoch  24 | ET 39.78 min | Avg Losses >> G/D -574.58/245.40 [D-Real: -584.29 D-Fake: 574.58]\n",
            "Epoch  25 | ET 41.40 min | Avg Losses >> G/D -570.67/196.11 [D-Real: -579.80 D-Fake: 570.67]\n",
            "Epoch  26 | ET 43.02 min | Avg Losses >> G/D -624.11/162.38 [D-Real: -634.02 D-Fake: 624.11]\n",
            "Epoch  27 | ET 44.64 min | Avg Losses >> G/D -737.53/109.59 [D-Real: -759.22 D-Fake: 737.53]\n",
            "Epoch  28 | ET 47.00 min | Avg Losses >> G/D -606.26/ 65.00 [D-Real: -632.03 D-Fake: 606.26]\n",
            "Epoch  29 | ET 48.63 min | Avg Losses >> G/D -693.95/ 13.52 [D-Real: -710.34 D-Fake: 693.95]\n",
            "Epoch  30 | ET 50.25 min | Avg Losses >> G/D -694.37/479.95 [D-Real: -722.06 D-Fake: 694.37]\n",
            "Epoch  31 | ET 51.87 min | Avg Losses >> G/D -601.30/148.62 [D-Real: -622.93 D-Fake: 601.30]\n",
            "Epoch  32 | ET 53.49 min | Avg Losses >> G/D -685.51/ 28.99 [D-Real: -713.11 D-Fake: 685.51]\n",
            "Epoch  33 | ET 55.10 min | Avg Losses >> G/D -785.56/ 12.45 [D-Real: -810.18 D-Fake: 785.56]\n",
            "Epoch  34 | ET 56.72 min | Avg Losses >> G/D -745.50/ 42.79 [D-Real: -773.32 D-Fake: 745.50]\n",
            "Epoch  35 | ET 58.33 min | Avg Losses >> G/D -562.75/386.91 [D-Real: -576.62 D-Fake: 562.75]\n",
            "Epoch  36 | ET 59.95 min | Avg Losses >> G/D -791.90/366955.16 [D-Real: -785.68 D-Fake: 791.90]\n",
            "Epoch  37 | ET 61.56 min | Avg Losses >> G/D -947.46/1500.58 [D-Real: -942.38 D-Fake: 947.46]\n",
            "Epoch  38 | ET 63.17 min | Avg Losses >> G/D -853.14/386.51 [D-Real: -853.30 D-Fake: 853.14]\n",
            "Epoch  39 | ET 64.79 min | Avg Losses >> G/D -837.58/161.29 [D-Real: -839.13 D-Fake: 837.58]\n",
            "Epoch  40 | ET 66.40 min | Avg Losses >> G/D -824.71/ 65.10 [D-Real: -825.57 D-Fake: 824.71]\n",
            "Epoch  41 | ET 68.01 min | Avg Losses >> G/D -673.01/ 61.00 [D-Real: -680.62 D-Fake: 673.01]\n",
            "Epoch  42 | ET 69.63 min | Avg Losses >> G/D -635.33/ 11.35 [D-Real: -649.27 D-Fake: 635.33]\n",
            "Epoch  43 | ET 71.24 min | Avg Losses >> G/D -608.87/ 18.99 [D-Real: -618.38 D-Fake: 608.87]\n",
            "Epoch  44 | ET 72.86 min | Avg Losses >> G/D -657.50/3742.13 [D-Real: -668.55 D-Fake: 657.50]\n",
            "Epoch  45 | ET 74.47 min | Avg Losses >> G/D -613.57/ 80.85 [D-Real: -624.01 D-Fake: 613.57]\n",
            "Epoch  46 | ET 76.09 min | Avg Losses >> G/D -639.20/ 30.32 [D-Real: -646.36 D-Fake: 639.20]\n",
            "Epoch  47 | ET 77.71 min | Avg Losses >> G/D -570.69/  8.69 [D-Real: -579.69 D-Fake: 570.69]\n",
            "Epoch  48 | ET 79.32 min | Avg Losses >> G/D -512.13/  1.08 [D-Real: -521.38 D-Fake: 512.13]\n",
            "Epoch  49 | ET 80.93 min | Avg Losses >> G/D -593.93/ -1.02 [D-Real: -603.99 D-Fake: 593.93]\n",
            "Epoch  50 | ET 82.55 min | Avg Losses >> G/D -628.71/ -1.58 [D-Real: -637.11 D-Fake: 628.71]\n",
            "Epoch  51 | ET 84.16 min | Avg Losses >> G/D -554.71/174.48 [D-Real: -564.73 D-Fake: 554.71]\n",
            "Epoch  52 | ET 85.78 min | Avg Losses >> G/D -591.17/  1.70 [D-Real: -603.42 D-Fake: 591.17]\n",
            "Epoch  53 | ET 87.39 min | Avg Losses >> G/D -657.00/191020.06 [D-Real: -664.57 D-Fake: 657.00]\n",
            "Epoch  54 | ET 89.01 min | Avg Losses >> G/D -1008.15/4093.87 [D-Real: -1004.63 D-Fake: 1008.15]\n",
            "Epoch  55 | ET 90.62 min | Avg Losses >> G/D -1058.79/716.11 [D-Real: -1057.91 D-Fake: 1058.79]\n",
            "Epoch  56 | ET 92.23 min | Avg Losses >> G/D -1066.53/371.19 [D-Real: -1066.29 D-Fake: 1066.53]\n",
            "Epoch  57 | ET 93.84 min | Avg Losses >> G/D -1048.19/161.23 [D-Real: -1047.93 D-Fake: 1048.19]\n",
            "Epoch  58 | ET 95.45 min | Avg Losses >> G/D -1049.68/118.24 [D-Real: -1051.03 D-Fake: 1049.68]\n",
            "Epoch  59 | ET 97.06 min | Avg Losses >> G/D -1001.01/102.47 [D-Real: -1002.15 D-Fake: 1001.01]\n",
            "Epoch  60 | ET 98.66 min | Avg Losses >> G/D -820.42/197.61 [D-Real: -825.85 D-Fake: 820.42]\n",
            "Epoch  61 | ET 100.27 min | Avg Losses >> G/D -634.15/ 64.27 [D-Real: -644.89 D-Fake: 634.15]\n",
            "Epoch  62 | ET 101.88 min | Avg Losses >> G/D -613.36/6029.60 [D-Real: -620.49 D-Fake: 613.36]\n",
            "Epoch  63 | ET 103.48 min | Avg Losses >> G/D -539.13/  5.41 [D-Real: -545.19 D-Fake: 539.13]\n",
            "Epoch  64 | ET 105.09 min | Avg Losses >> G/D -572.55/  1.88 [D-Real: -580.48 D-Fake: 572.55]\n",
            "Epoch  65 | ET 106.69 min | Avg Losses >> G/D -560.36/ -1.27 [D-Real: -568.73 D-Fake: 560.36]\n",
            "Epoch  66 | ET 108.30 min | Avg Losses >> G/D -1023.12/476694.09 [D-Real: -984.66 D-Fake: 1023.12]\n",
            "Epoch  67 | ET 109.91 min | Avg Losses >> G/D -1101.83/2256.24 [D-Real: -1088.04 D-Fake: 1101.83]\n",
            "Epoch  68 | ET 111.51 min | Avg Losses >> G/D -1111.26/871.45 [D-Real: -1102.98 D-Fake: 1111.26]\n",
            "Epoch  69 | ET 113.12 min | Avg Losses >> G/D -1090.39/630.76 [D-Real: -1087.70 D-Fake: 1090.39]\n",
            "Epoch  70 | ET 114.72 min | Avg Losses >> G/D -1051.07/431.04 [D-Real: -1052.11 D-Fake: 1051.07]\n",
            "Epoch  71 | ET 116.33 min | Avg Losses >> G/D -1048.27/199.10 [D-Real: -1049.00 D-Fake: 1048.27]\n",
            "Epoch  72 | ET 117.93 min | Avg Losses >> G/D -1056.28/186.97 [D-Real: -1057.40 D-Fake: 1056.28]\n",
            "Epoch  73 | ET 119.54 min | Avg Losses >> G/D -1037.45/133.71 [D-Real: -1037.58 D-Fake: 1037.45]\n",
            "Epoch  74 | ET 121.14 min | Avg Losses >> G/D -1010.36/180.84 [D-Real: -1010.72 D-Fake: 1010.36]\n",
            "Epoch  75 | ET 122.75 min | Avg Losses >> G/D -1005.17/1173.11 [D-Real: -1005.19 D-Fake: 1005.17]\n",
            "Epoch  76 | ET 124.35 min | Avg Losses >> G/D -853.64/ 67.53 [D-Real: -857.95 D-Fake: 853.64]\n",
            "Epoch  77 | ET 125.96 min | Avg Losses >> G/D -593.49/ 53.32 [D-Real: -600.09 D-Fake: 593.49]\n",
            "Epoch  78 | ET 127.57 min | Avg Losses >> G/D -481.81/1634.35 [D-Real: -485.96 D-Fake: 481.81]\n",
            "Epoch  79 | ET 129.18 min | Avg Losses >> G/D -572.53/ 36.77 [D-Real: -576.58 D-Fake: 572.53]\n",
            "Epoch  80 | ET 130.78 min | Avg Losses >> G/D -652.60/235907.62 [D-Real: -665.99 D-Fake: 652.60]\n",
            "Epoch  81 | ET 132.39 min | Avg Losses >> G/D -959.86/1859.77 [D-Real: -947.88 D-Fake: 959.86]\n",
            "Epoch  82 | ET 134.00 min | Avg Losses >> G/D -943.86/412.64 [D-Real: -943.22 D-Fake: 943.86]\n",
            "Epoch  83 | ET 135.61 min | Avg Losses >> G/D -880.04/205.80 [D-Real: -880.98 D-Fake: 880.04]\n",
            "Epoch  84 | ET 137.22 min | Avg Losses >> G/D -820.04/144.44 [D-Real: -820.65 D-Fake: 820.04]\n",
            "Epoch  85 | ET 138.84 min | Avg Losses >> G/D -807.24/ 46.74 [D-Real: -808.90 D-Fake: 807.24]\n",
            "Epoch  86 | ET 140.45 min | Avg Losses >> G/D -778.46/ 18.70 [D-Real: -779.54 D-Fake: 778.46]\n",
            "Epoch  87 | ET 142.07 min | Avg Losses >> G/D -761.99/  5.31 [D-Real: -763.41 D-Fake: 761.99]\n",
            "Epoch  88 | ET 143.68 min | Avg Losses >> G/D -657.52/  3.21 [D-Real: -661.81 D-Fake: 657.52]\n",
            "Epoch  89 | ET 145.28 min | Avg Losses >> G/D -642.19/  5.61 [D-Real: -646.55 D-Fake: 642.19]\n",
            "Epoch  90 | ET 146.89 min | Avg Losses >> G/D -765.21/26193.68 [D-Real: -766.72 D-Fake: 765.21]\n",
            "Epoch  91 | ET 148.51 min | Avg Losses >> G/D -651.18/ 56.89 [D-Real: -654.19 D-Fake: 651.18]\n",
            "Epoch  92 | ET 150.12 min | Avg Losses >> G/D -637.29/  5.29 [D-Real: -640.95 D-Fake: 637.29]\n",
            "Epoch  93 | ET 151.73 min | Avg Losses >> G/D -576.80/  2.46 [D-Real: -580.75 D-Fake: 576.80]\n",
            "Epoch  94 | ET 153.34 min | Avg Losses >> G/D -551.18/ -0.27 [D-Real: -555.65 D-Fake: 551.18]\n",
            "Epoch  95 | ET 154.95 min | Avg Losses >> G/D -551.80/ -1.07 [D-Real: -556.86 D-Fake: 551.80]\n",
            "Epoch  96 | ET 156.56 min | Avg Losses >> G/D -563.38/ -1.80 [D-Real: -569.85 D-Fake: 563.38]\n",
            "Epoch  97 | ET 158.17 min | Avg Losses >> G/D -581.07/ -2.59 [D-Real: -589.10 D-Fake: 581.07]\n",
            "Epoch  98 | ET 159.78 min | Avg Losses >> G/D -698.30/105088.48 [D-Real: -696.41 D-Fake: 698.30]\n",
            "Epoch  99 | ET 161.38 min | Avg Losses >> G/D -670.98/736.64 [D-Real: -672.27 D-Fake: 670.98]\n",
            "Epoch 100 | ET 163.74 min | Avg Losses >> G/D -655.98/271.23 [D-Real: -657.62 D-Fake: 655.98]\n"
          ]
        }
      ]
    },
    {
      "cell_type": "code",
      "source": [
        "selected_epochs = [1, 2, 4, 10, 50, 100]\n",
        "fig = plt.figure(figsize=(10, 14))\n",
        "for i,e in enumerate(selected_epochs):\n",
        "  for j in range(5):\n",
        "    ax = fig.add_subplot(6, 5, i*5+j+1)\n",
        "    ax.set_xticks([])\n",
        "    ax.set_yticks([])\n",
        "    if j == 0:\n",
        "      ax.text(-0.06, 0.5, 'Epoch {}'.format(e),\n",
        "              rotation=90, size=18, color='red',\n",
        "              horizontalalignment='right',\n",
        "              verticalalignment='center',\n",
        "              transform=ax.transAxes)\n",
        "    \n",
        "    image = epoch_samples[e-1][j]\n",
        "    ax.imshow(image, cmap='gray_r')\n",
        "plt.show()"
      ],
      "metadata": {
        "colab": {
          "base_uri": "https://localhost:8080/",
          "height": 783
        },
        "id": "HybCn00HzVf-",
        "outputId": "017f507c-3ee6-4275-c1b0-37dd79ec47a1"
      },
      "execution_count": 36,
      "outputs": [
        {
          "output_type": "display_data",
          "data": {
            "text/plain": [
              "<Figure size 720x1008 with 30 Axes>"
            ],
            "image/png": "[encoded data removed]"
          },
          "metadata": {}
        }
      ]
    },
    {
      "cell_type": "code",
      "source": [],
      "metadata": {
        "id": "KMtAKh3vzxqp"
      },
      "execution_count": null,
      "outputs": []
    }
  ]
}