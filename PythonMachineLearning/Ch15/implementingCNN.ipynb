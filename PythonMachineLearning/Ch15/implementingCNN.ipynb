{
 "cells": [
  {
   "cell_type": "markdown",
   "metadata": {},
   "source": [
    "Loss Functions"
   ]
  },
  {
   "cell_type": "code",
   "execution_count": 1,
   "metadata": {},
   "outputs": [
    {
     "name": "stderr",
     "output_type": "stream",
     "text": [
      "2022-12-08 20:17:56.771332: I tensorflow/core/platform/cpu_feature_guard.cc:193] This TensorFlow binary is optimized with oneAPI Deep Neural Network Library (oneDNN) to use the following CPU instructions in performance-critical operations:  AVX2 FMA\n",
      "To enable them in other operations, rebuild TensorFlow with the appropriate compiler flags.\n",
      "2022-12-08 20:17:57.131541: W tensorflow/compiler/xla/stream_executor/platform/default/dso_loader.cc:64] Could not load dynamic library 'libcudart.so.11.0'; dlerror: libcudart.so.11.0: cannot open shared object file: No such file or directory\n",
      "2022-12-08 20:17:57.131576: I tensorflow/compiler/xla/stream_executor/cuda/cudart_stub.cc:29] Ignore above cudart dlerror if you do not have a GPU set up on your machine.\n",
      "2022-12-08 20:17:57.902969: W tensorflow/compiler/xla/stream_executor/platform/default/dso_loader.cc:64] Could not load dynamic library 'libnvinfer.so.7'; dlerror: libnvinfer.so.7: cannot open shared object file: No such file or directory\n",
      "2022-12-08 20:17:57.903011: W tensorflow/compiler/xla/stream_executor/platform/default/dso_loader.cc:64] Could not load dynamic library 'libnvinfer_plugin.so.7'; dlerror: libnvinfer_plugin.so.7: cannot open shared object file: No such file or directory\n",
      "2022-12-08 20:17:57.903017: W tensorflow/compiler/tf2tensorrt/utils/py_utils.cc:38] TF-TRT Warning: Cannot dlopen some TensorRT libraries. If you would like to use Nvidia GPU with TensorRT, please make sure the missing libraries mentioned above are installed properly.\n",
      "/home/harsh/.local/lib/python3.8/site-packages/pandas/core/computation/expressions.py:21: UserWarning: Pandas requires version '2.7.3' or newer of 'numexpr' (version '2.7.1' currently installed).\n",
      "  from pandas.core.computation.check import NUMEXPR_INSTALLED\n"
     ]
    }
   ],
   "source": [
    "import numpy as np\n",
    "import tensorflow_datasets as tfds\n",
    "import tensorflow as tf"
   ]
  },
  {
   "cell_type": "code",
   "execution_count": 2,
   "metadata": {},
   "outputs": [
    {
     "name": "stdout",
     "output_type": "stream",
     "text": [
      "BCE (w probas) : 0.3711 (w Logits): 0.3711\n"
     ]
    },
    {
     "name": "stderr",
     "output_type": "stream",
     "text": [
      "2022-12-08 20:18:04.135174: E tensorflow/compiler/xla/stream_executor/cuda/cuda_driver.cc:267] failed call to cuInit: CUDA_ERROR_NO_DEVICE: no CUDA-capable device is detected\n",
      "2022-12-08 20:18:04.135245: I tensorflow/compiler/xla/stream_executor/cuda/cuda_diagnostics.cc:169] retrieving CUDA diagnostic information for host: harsh-IdeaPad-Gaming3-15ARH05D\n",
      "2022-12-08 20:18:04.135260: I tensorflow/compiler/xla/stream_executor/cuda/cuda_diagnostics.cc:176] hostname: harsh-IdeaPad-Gaming3-15ARH05D\n",
      "2022-12-08 20:18:04.135454: I tensorflow/compiler/xla/stream_executor/cuda/cuda_diagnostics.cc:200] libcuda reported version is: 515.65.1\n",
      "2022-12-08 20:18:04.135509: I tensorflow/compiler/xla/stream_executor/cuda/cuda_diagnostics.cc:204] kernel reported version is: NOT_FOUND: could not find kernel module information in driver version file contents: \"NVRM version: NVIDIA UNIX Open Kernel Module for x86_64  515.65.01  Release Build  (dvs-builder@U16-T11-05-2)  Wed Jul 20 13:54:56 UTC 2022\n",
      "GCC version:  gcc version 9.4.0 (Ubuntu 9.4.0-1ubuntu1~20.04.1) \n",
      "\"\n",
      "2022-12-08 20:18:04.136731: I tensorflow/core/platform/cpu_feature_guard.cc:193] This TensorFlow binary is optimized with oneAPI Deep Neural Network Library (oneDNN) to use the following CPU instructions in performance-critical operations:  AVX2 FMA\n",
      "To enable them in other operations, rebuild TensorFlow with the appropriate compiler flags.\n"
     ]
    }
   ],
   "source": [
    "# BINARY CROSSENTROPY\n",
    "bce_probas = tf.keras.losses.BinaryCrossentropy(from_logits=False)\n",
    "bce_logits = tf.keras.losses.BinaryCrossentropy(from_logits=True)\n",
    "\n",
    "logits = tf.constant([0.8])\n",
    "probas = tf.keras.activations.sigmoid(logits)\n",
    "\n",
    "tf.print(\n",
    "    'BCE (w probas) : {:.4f}'.format(\n",
    "        bce_probas(y_true=[1], y_pred=probas)\n",
    "    ),\n",
    "    '(w Logits): {:.4f}'.format(\n",
    "        bce_logits(y_true=[1], y_pred=logits)\n",
    "    )\n",
    ")"
   ]
  },
  {
   "cell_type": "code",
   "execution_count": 3,
   "metadata": {},
   "outputs": [
    {
     "name": "stdout",
     "output_type": "stream",
     "text": [
      "CCE (w Probas): 0.5996 (w Logits): 0.5996\n"
     ]
    }
   ],
   "source": [
    "# CATEGORICAL CROSSENTROPY\n",
    "cce_probas = tf.keras.losses.CategoricalCrossentropy(from_logits=False)\n",
    "cce_logits = tf.keras.losses.CategoricalCrossentropy(from_logits=True)\n",
    "\n",
    "logits = tf.constant([[1.5, 0.8, 2.1]])\n",
    "probas = tf.keras.activations.softmax(logits)\n",
    "\n",
    "tf.print(\n",
    "    'CCE (w Probas): {:.4f}'.format(\n",
    "    cce_probas(y_true=[[0, 0, 1]], y_pred=probas)),\n",
    "    '(w Logits): {:.4f}'.format(\n",
    "    cce_logits(y_true=[[0, 0, 1]], y_pred=logits)))"
   ]
  },
  {
   "cell_type": "code",
   "execution_count": 4,
   "metadata": {},
   "outputs": [
    {
     "name": "stdout",
     "output_type": "stream",
     "text": [
      "Sparse CCE (w Probas): 0.5996 (w Logits): 0.5996\n"
     ]
    }
   ],
   "source": [
    "# SPARSE CATEGORICAL CROSSENTROPY\n",
    "sp_cce_probas = tf.keras.losses.CategoricalCrossentropy(from_logits=False)\n",
    "sp_cce_logits = tf.keras.losses.CategoricalCrossentropy(from_logits=True)\n",
    "\n",
    "tf.print(\n",
    "    'Sparse CCE (w Probas): {:.4f}'.format(\n",
    "    sp_cce_probas(y_true=[[0, 0, 1]], y_pred=probas)),\n",
    "    '(w Logits): {:.4f}'.format(\n",
    "    sp_cce_logits(y_true=[[0, 0, 1]], y_pred=logits)))"
   ]
  },
  {
   "cell_type": "markdown",
   "metadata": {},
   "source": [
    "**A MULTIPLAYER CNN**\n",
    "\n",
    "*Input layer: [batchsize x 28 x 28 x 1]* <br>\n",
    "*Conv_1: [batchsize × 28 × 28 × 32]* <br>\n",
    "*Pooling_1: [batchsize × 14 × 14 × 32]* <br>\n",
    "*Conv_2: [batchsize × 14 × 14 × 64]* <br>\n",
    "*Pooling_2: [batchsize × 7 × 7 × 64]* <br>\n",
    "*FC_1: [batchsize × 1024]* <br>\n",
    "*FC_2 and softmax layer: [batchsize × 10]* <br>"
   ]
  },
  {
   "cell_type": "markdown",
   "metadata": {},
   "source": [
    "Loading and preprocessing the image"
   ]
  },
  {
   "cell_type": "code",
   "execution_count": 5,
   "metadata": {},
   "outputs": [],
   "source": [
    "# loading the data\n",
    "mnist_bldr = tfds.builder('mnist')\n",
    "mnist_bldr.download_and_prepare()\n",
    "\n",
    "datasets = mnist_bldr.as_dataset(shuffle_files=False)\n",
    "mnist_train_orig = datasets['train']\n",
    "mnist_test_orig = datasets['test']"
   ]
  },
  {
   "cell_type": "code",
   "execution_count": 6,
   "metadata": {},
   "outputs": [],
   "source": [
    "BUFFER_SIZE = 10000\n",
    "BATCH_SIZE = 64\n",
    "NUM_EPOCHS = 20"
   ]
  },
  {
   "cell_type": "code",
   "execution_count": 7,
   "metadata": {},
   "outputs": [
    {
     "name": "stdout",
     "output_type": "stream",
     "text": [
      "WARNING:tensorflow:From /home/harsh/.local/lib/python3.8/site-packages/tensorflow/python/autograph/pyct/static_analysis/liveness.py:83: Analyzer.lamba_check (from tensorflow.python.autograph.pyct.static_analysis.liveness) is deprecated and will be removed after 2023-09-23.\n",
      "Instructions for updating:\n",
      "Lambda fuctions will be no more assumed to be used in the statement where they are used, or at least in the same block. https://github.com/tensorflow/tensorflow/issues/56089\n"
     ]
    },
    {
     "name": "stderr",
     "output_type": "stream",
     "text": [
      "WARNING:tensorflow:From /home/harsh/.local/lib/python3.8/site-packages/tensorflow/python/autograph/pyct/static_analysis/liveness.py:83: Analyzer.lamba_check (from tensorflow.python.autograph.pyct.static_analysis.liveness) is deprecated and will be removed after 2023-09-23.\n",
      "Instructions for updating:\n",
      "Lambda fuctions will be no more assumed to be used in the statement where they are used, or at least in the same block. https://github.com/tensorflow/tensorflow/issues/56089\n"
     ]
    }
   ],
   "source": [
    "mnist_train = mnist_train_orig.map(\n",
    "    lambda item: (tf.cast(item['image'], tf.float32)/255.0,\n",
    "    tf.cast(item['label'], tf.int32)))\n",
    "\n",
    "mnist_test = mnist_test_orig.map(\n",
    "    lambda item: (tf.cast(item['image'], tf.float32)/255.0,\n",
    "    tf.cast(item['label'], tf.int32)))"
   ]
  },
  {
   "cell_type": "code",
   "execution_count": 8,
   "metadata": {},
   "outputs": [],
   "source": [
    "tf.random.set_seed(1)\n",
    "\n",
    "mnist_train = mnist_train.shuffle(buffer_size=BUFFER_SIZE, reshuffle_each_iteration=False)\n",
    "mnist_valid = mnist_train.take(10000).batch(BATCH_SIZE)\n",
    "mnist_train = mnist_train.skip(10000).batch(BATCH_SIZE)"
   ]
  },
  {
   "cell_type": "markdown",
   "metadata": {},
   "source": [
    "IMPLEMENTING A **CNN** USING TENSORFLOW KERAS API"
   ]
  },
  {
   "cell_type": "code",
   "execution_count": 9,
   "metadata": {},
   "outputs": [],
   "source": [
    "model = tf.keras.Sequential()\n",
    "\n",
    "model.add(tf.keras.layers.Conv2D(\n",
    "    filters=32, kernel_size=(5, 5),\n",
    "    strides=(1, 1), padding='same',\n",
    "    data_format='channels_last', #NHWC\n",
    "    name='conv_1', activation='relu'))\n",
    "\n",
    "model.add(tf.keras.layers.MaxPool2D(\n",
    "    pool_size=(2, 2), name='pool_1'))\n",
    "\n",
    "model.add(tf.keras.layers.Conv2D(\n",
    "    filters=64, kernel_size=(5, 5),\n",
    "    strides=(1, 1), padding='same',\n",
    "    name='conv_2', activation='relu'))\n",
    "\n",
    "model.add(tf.keras.layers.MaxPool2D(\n",
    "    pool_size=(2, 2), name='pool_2'))"
   ]
  },
  {
   "cell_type": "code",
   "execution_count": 12,
   "metadata": {},
   "outputs": [
    {
     "data": {
      "text/plain": [
       "TensorShape([None, 7, 7, 64])"
      ]
     },
     "execution_count": 12,
     "metadata": {},
     "output_type": "execute_result"
    }
   ],
   "source": [
    "model.compute_output_shape(input_shape=(None, 28, 28, 1))"
   ]
  },
  {
   "cell_type": "code",
   "execution_count": 13,
   "metadata": {},
   "outputs": [
    {
     "data": {
      "text/plain": [
       "TensorShape([None, 3136])"
      ]
     },
     "execution_count": 13,
     "metadata": {},
     "output_type": "execute_result"
    }
   ],
   "source": [
    "# NOW WE NEED TO ADD OUR FULLY CONECTED LAYERS\n",
    "model.add(tf.keras.layers.Flatten())\n",
    "model.compute_output_shape(input_shape=(None, 28, 28, 1))"
   ]
  },
  {
   "cell_type": "code",
   "execution_count": 14,
   "metadata": {},
   "outputs": [],
   "source": [
    "model.add(tf.keras.layers.Dense(\n",
    "    units=1024, name='fc_1',\n",
    "    activation='relu'))\n",
    "\n",
    "# For Regularization\n",
    "model.add(tf.keras.layers.Dropout(rate=0.5))\n",
    "\n",
    "model.add(tf.keras.layers.Dense(\n",
    "    units=10, name='fc_2',\n",
    "    activation='softmax'))"
   ]
  },
  {
   "cell_type": "code",
   "execution_count": 15,
   "metadata": {},
   "outputs": [],
   "source": [
    "tf.random.set_seed(1)\n",
    "model.build(input_shape=(None, 28, 28, 1))\n",
    "\n",
    "model.compile(\n",
    "    optimizer=tf.keras.optimizers.Adam(),\n",
    "    loss=tf.keras.losses.SparseCategoricalCrossentropy(),\n",
    "    metrics=['accuracy'])"
   ]
  },
  {
   "cell_type": "code",
   "execution_count": 16,
   "metadata": {},
   "outputs": [
    {
     "name": "stdout",
     "output_type": "stream",
     "text": [
      "Model: \"sequential\"\n",
      "_________________________________________________________________\n",
      " Layer (type)                Output Shape              Param #   \n",
      "=================================================================\n",
      " conv_1 (Conv2D)             (None, 28, 28, 32)        832       \n",
      "                                                                 \n",
      " pool_1 (MaxPooling2D)       (None, 14, 14, 32)        0         \n",
      "                                                                 \n",
      " conv_2 (Conv2D)             (None, 14, 14, 64)        51264     \n",
      "                                                                 \n",
      " pool_2 (MaxPooling2D)       (None, 7, 7, 64)          0         \n",
      "                                                                 \n",
      " flatten (Flatten)           (None, 3136)              0         \n",
      "                                                                 \n",
      " fc_1 (Dense)                (None, 1024)              3212288   \n",
      "                                                                 \n",
      " dropout (Dropout)           (None, 1024)              0         \n",
      "                                                                 \n",
      " fc_2 (Dense)                (None, 10)                10250     \n",
      "                                                                 \n",
      "=================================================================\n",
      "Total params: 3,274,634\n",
      "Trainable params: 3,274,634\n",
      "Non-trainable params: 0\n",
      "_________________________________________________________________\n"
     ]
    }
   ],
   "source": [
    "model.summary()"
   ]
  },
  {
   "cell_type": "code",
   "execution_count": 17,
   "metadata": {},
   "outputs": [
    {
     "name": "stdout",
     "output_type": "stream",
     "text": [
      "Epoch 1/20\n",
      "782/782 [==============================] - 76s 94ms/step - loss: 0.1466 - accuracy: 0.9539 - val_loss: 0.0529 - val_accuracy: 0.9827\n",
      "Epoch 2/20\n",
      "782/782 [==============================] - 72s 92ms/step - loss: 0.0475 - accuracy: 0.9853 - val_loss: 0.0470 - val_accuracy: 0.9867\n",
      "Epoch 3/20\n",
      "782/782 [==============================] - 72s 91ms/step - loss: 0.0327 - accuracy: 0.9896 - val_loss: 0.0355 - val_accuracy: 0.9888\n",
      "Epoch 4/20\n",
      "782/782 [==============================] - 72s 92ms/step - loss: 0.0230 - accuracy: 0.9928 - val_loss: 0.0421 - val_accuracy: 0.9881\n",
      "Epoch 5/20\n",
      "782/782 [==============================] - 72s 92ms/step - loss: 0.0176 - accuracy: 0.9947 - val_loss: 0.0368 - val_accuracy: 0.9904\n",
      "Epoch 6/20\n",
      "782/782 [==============================] - 73s 92ms/step - loss: 0.0158 - accuracy: 0.9951 - val_loss: 0.0347 - val_accuracy: 0.9905\n",
      "Epoch 7/20\n",
      "782/782 [==============================] - 63s 80ms/step - loss: 0.0117 - accuracy: 0.9961 - val_loss: 0.0381 - val_accuracy: 0.9909\n",
      "Epoch 8/20\n",
      "782/782 [==============================] - 66s 83ms/step - loss: 0.0132 - accuracy: 0.9957 - val_loss: 0.0445 - val_accuracy: 0.9900\n",
      "Epoch 9/20\n",
      "782/782 [==============================] - 72s 91ms/step - loss: 0.0114 - accuracy: 0.9968 - val_loss: 0.0472 - val_accuracy: 0.9917\n",
      "Epoch 10/20\n",
      "782/782 [==============================] - 72s 92ms/step - loss: 0.0095 - accuracy: 0.9970 - val_loss: 0.0423 - val_accuracy: 0.9913\n",
      "Epoch 11/20\n",
      "782/782 [==============================] - 72s 91ms/step - loss: 0.0080 - accuracy: 0.9974 - val_loss: 0.0434 - val_accuracy: 0.9916\n",
      "Epoch 12/20\n",
      "782/782 [==============================] - 72s 92ms/step - loss: 0.0075 - accuracy: 0.9976 - val_loss: 0.0528 - val_accuracy: 0.9904\n",
      "Epoch 13/20\n",
      "782/782 [==============================] - 65s 82ms/step - loss: 0.0067 - accuracy: 0.9980 - val_loss: 0.0493 - val_accuracy: 0.9920\n",
      "Epoch 14/20\n",
      "782/782 [==============================] - 63s 80ms/step - loss: 0.0071 - accuracy: 0.9978 - val_loss: 0.0550 - val_accuracy: 0.9909\n",
      "Epoch 15/20\n",
      "782/782 [==============================] - 63s 80ms/step - loss: 0.0062 - accuracy: 0.9981 - val_loss: 0.0485 - val_accuracy: 0.9900\n",
      "Epoch 16/20\n",
      "782/782 [==============================] - 63s 80ms/step - loss: 0.0076 - accuracy: 0.9978 - val_loss: 0.0526 - val_accuracy: 0.9912\n",
      "Epoch 17/20\n",
      "782/782 [==============================] - 68s 86ms/step - loss: 0.0060 - accuracy: 0.9982 - val_loss: 0.0568 - val_accuracy: 0.9922\n",
      "Epoch 18/20\n",
      "782/782 [==============================] - 72s 92ms/step - loss: 0.0048 - accuracy: 0.9984 - val_loss: 0.0677 - val_accuracy: 0.9899\n",
      "Epoch 19/20\n",
      "782/782 [==============================] - 72s 92ms/step - loss: 0.0077 - accuracy: 0.9978 - val_loss: 0.0592 - val_accuracy: 0.9908\n",
      "Epoch 20/20\n",
      "782/782 [==============================] - 72s 92ms/step - loss: 0.0057 - accuracy: 0.9983 - val_loss: 0.0751 - val_accuracy: 0.9894\n"
     ]
    }
   ],
   "source": [
    "history = model.fit(mnist_train, epochs=NUM_EPOCHS, validation_data=mnist_valid, shuffle=True)"
   ]
  },
  {
   "cell_type": "code",
   "execution_count": 18,
   "metadata": {},
   "outputs": [
    {
     "name": "stdout",
     "output_type": "stream",
     "text": [
      "500/500 [==============================] - 5s 9ms/step - loss: 0.0527 - accuracy: 0.9912\n",
      "Test Acc.: 99.12\\%\n"
     ]
    }
   ],
   "source": [
    "test_results = model.evaluate(mnist_test.batch(20))\n",
    "print('Test Acc.: {:.2f}\\%'.format(test_results[1]*100))"
   ]
  },
  {
   "cell_type": "markdown",
   "metadata": {},
   "source": [
    "establishing class-membership probabilities"
   ]
  },
  {
   "cell_type": "code",
   "execution_count": 19,
   "metadata": {},
   "outputs": [
    {
     "name": "stdout",
     "output_type": "stream",
     "text": [
      "TensorShape([12, 10])\n"
     ]
    }
   ],
   "source": [
    "batch_test = next(iter(mnist_test.batch(12)))\n",
    "\n",
    "preds = model(batch_test[0])\n",
    "tf.print(preds.shape)"
   ]
  },
  {
   "cell_type": "code",
   "execution_count": 20,
   "metadata": {},
   "outputs": [
    {
     "name": "stdout",
     "output_type": "stream",
     "text": [
      "tf.Tensor([2 0 4 8 7 6 0 6 3 1 8 0], shape=(12,), dtype=int64)\n"
     ]
    }
   ],
   "source": [
    "preds = tf.argmax(preds, axis=1)\n",
    "print(preds)"
   ]
  },
  {
   "cell_type": "code",
   "execution_count": 22,
   "metadata": {},
   "outputs": [
    {
     "data": {
      "image/png": "[encoded data removed]",
      "text/plain": [
       "<Figure size 1200x400 with 12 Axes>"
      ]
     },
     "metadata": {},
     "output_type": "display_data"
    }
   ],
   "source": [
    "import matplotlib.pyplot as plt\n",
    "\n",
    "fig = plt.figure(figsize=(12, 4))\n",
    "for i in range(12):\n",
    "    ax = fig.add_subplot(2, 6, i+1)\n",
    "    ax.set_xticks([]); ax.set_yticks([])\n",
    "    img = batch_test[0][i, :, :, 0]\n",
    "    ax.imshow(img, cmap='gray_r')\n",
    "    ax.text(0.9, 0.1, '{}'.format(preds[i]),\n",
    "        size=15, color='blue',\n",
    "        horizontalalignment='center',\n",
    "        verticalalignment='center',\n",
    "        transform=ax.transAxes)\n",
    "        \n",
    "plt.show()"
   ]
  }
 ],
 "metadata": {
  "kernelspec": {
   "display_name": "Python 3.8.10 64-bit",
   "language": "python",
   "name": "python3"
  },
  "language_info": {
   "codemirror_mode": {
    "name": "ipython",
    "version": 3
   },
   "file_extension": ".py",
   "mimetype": "text/x-python",
   "name": "python",
   "nbconvert_exporter": "python",
   "pygments_lexer": "ipython3",
   "version": "3.8.10"
  },
  "orig_nbformat": 4,
  "vscode": {
   "interpreter": {
    "hash": "916dbcbb3f70747c44a77c7bcd40155683ae19c65e1c03b4aa3499c5328201f1"
   }
  }
 },
 "nbformat": 4,
 "nbformat_minor": 2
}
